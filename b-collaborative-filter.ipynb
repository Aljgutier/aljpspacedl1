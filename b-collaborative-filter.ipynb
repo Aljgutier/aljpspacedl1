{
 "cells": [
  {
   "cell_type": "markdown",
   "metadata": {},
   "source": [
    "# Collaborative-Filter w/ Deep Learning"
   ]
  },
  {
   "cell_type": "code",
   "execution_count": 1,
   "metadata": {},
   "outputs": [],
   "source": [
    "from fastai.learner import *\n",
    "from fastai.column_data import *"
   ]
  },
  {
   "cell_type": "code",
   "execution_count": 2,
   "metadata": {},
   "outputs": [],
   "source": [
    "# Data\n",
    "path='data/ml-latest-small/'"
   ]
  },
  {
   "cell_type": "code",
   "execution_count": 3,
   "metadata": {},
   "outputs": [
    {
     "data": {
      "text/html": [
       "<div>\n",
       "<style scoped>\n",
       "    .dataframe tbody tr th:only-of-type {\n",
       "        vertical-align: middle;\n",
       "    }\n",
       "\n",
       "    .dataframe tbody tr th {\n",
       "        vertical-align: top;\n",
       "    }\n",
       "\n",
       "    .dataframe thead th {\n",
       "        text-align: right;\n",
       "    }\n",
       "</style>\n",
       "<table border=\"1\" class=\"dataframe\">\n",
       "  <thead>\n",
       "    <tr style=\"text-align: right;\">\n",
       "      <th></th>\n",
       "      <th>userId</th>\n",
       "      <th>movieId</th>\n",
       "      <th>rating</th>\n",
       "      <th>timestamp</th>\n",
       "    </tr>\n",
       "  </thead>\n",
       "  <tbody>\n",
       "    <tr>\n",
       "      <th>0</th>\n",
       "      <td>1</td>\n",
       "      <td>1</td>\n",
       "      <td>4.0</td>\n",
       "      <td>964982703</td>\n",
       "    </tr>\n",
       "    <tr>\n",
       "      <th>1</th>\n",
       "      <td>1</td>\n",
       "      <td>3</td>\n",
       "      <td>4.0</td>\n",
       "      <td>964981247</td>\n",
       "    </tr>\n",
       "    <tr>\n",
       "      <th>2</th>\n",
       "      <td>1</td>\n",
       "      <td>6</td>\n",
       "      <td>4.0</td>\n",
       "      <td>964982224</td>\n",
       "    </tr>\n",
       "    <tr>\n",
       "      <th>3</th>\n",
       "      <td>1</td>\n",
       "      <td>47</td>\n",
       "      <td>5.0</td>\n",
       "      <td>964983815</td>\n",
       "    </tr>\n",
       "    <tr>\n",
       "      <th>4</th>\n",
       "      <td>1</td>\n",
       "      <td>50</td>\n",
       "      <td>5.0</td>\n",
       "      <td>964982931</td>\n",
       "    </tr>\n",
       "  </tbody>\n",
       "</table>\n",
       "</div>"
      ],
      "text/plain": [
       "   userId  movieId  rating  timestamp\n",
       "0       1        1     4.0  964982703\n",
       "1       1        3     4.0  964981247\n",
       "2       1        6     4.0  964982224\n",
       "3       1       47     5.0  964983815\n",
       "4       1       50     5.0  964982931"
      ]
     },
     "execution_count": 3,
     "metadata": {},
     "output_type": "execute_result"
    }
   ],
   "source": [
    "ratings = pd.read_csv(path+'ratings.csv')\n",
    "ratings.head()"
   ]
  },
  {
   "cell_type": "code",
   "execution_count": 4,
   "metadata": {},
   "outputs": [
    {
     "data": {
      "text/html": [
       "<div>\n",
       "<style scoped>\n",
       "    .dataframe tbody tr th:only-of-type {\n",
       "        vertical-align: middle;\n",
       "    }\n",
       "\n",
       "    .dataframe tbody tr th {\n",
       "        vertical-align: top;\n",
       "    }\n",
       "\n",
       "    .dataframe thead th {\n",
       "        text-align: right;\n",
       "    }\n",
       "</style>\n",
       "<table border=\"1\" class=\"dataframe\">\n",
       "  <thead>\n",
       "    <tr style=\"text-align: right;\">\n",
       "      <th></th>\n",
       "      <th>movieId</th>\n",
       "      <th>title</th>\n",
       "      <th>genres</th>\n",
       "    </tr>\n",
       "  </thead>\n",
       "  <tbody>\n",
       "    <tr>\n",
       "      <th>0</th>\n",
       "      <td>1</td>\n",
       "      <td>Toy Story (1995)</td>\n",
       "      <td>Adventure|Animation|Children|Comedy|Fantasy</td>\n",
       "    </tr>\n",
       "    <tr>\n",
       "      <th>1</th>\n",
       "      <td>2</td>\n",
       "      <td>Jumanji (1995)</td>\n",
       "      <td>Adventure|Children|Fantasy</td>\n",
       "    </tr>\n",
       "    <tr>\n",
       "      <th>2</th>\n",
       "      <td>3</td>\n",
       "      <td>Grumpier Old Men (1995)</td>\n",
       "      <td>Comedy|Romance</td>\n",
       "    </tr>\n",
       "    <tr>\n",
       "      <th>3</th>\n",
       "      <td>4</td>\n",
       "      <td>Waiting to Exhale (1995)</td>\n",
       "      <td>Comedy|Drama|Romance</td>\n",
       "    </tr>\n",
       "    <tr>\n",
       "      <th>4</th>\n",
       "      <td>5</td>\n",
       "      <td>Father of the Bride Part II (1995)</td>\n",
       "      <td>Comedy</td>\n",
       "    </tr>\n",
       "  </tbody>\n",
       "</table>\n",
       "</div>"
      ],
      "text/plain": [
       "   movieId                               title  \\\n",
       "0        1                    Toy Story (1995)   \n",
       "1        2                      Jumanji (1995)   \n",
       "2        3             Grumpier Old Men (1995)   \n",
       "3        4            Waiting to Exhale (1995)   \n",
       "4        5  Father of the Bride Part II (1995)   \n",
       "\n",
       "                                        genres  \n",
       "0  Adventure|Animation|Children|Comedy|Fantasy  \n",
       "1                   Adventure|Children|Fantasy  \n",
       "2                               Comedy|Romance  \n",
       "3                         Comedy|Drama|Romance  \n",
       "4                                       Comedy  "
      ]
     },
     "execution_count": 4,
     "metadata": {},
     "output_type": "execute_result"
    }
   ],
   "source": [
    "movies = pd.read_csv(path+'movies.csv')\n",
    "movies.head()"
   ]
  },
  {
   "cell_type": "markdown",
   "metadata": {},
   "source": [
    "# Embeddings (Matrix Factorization Model)\n",
    "- EmbeddingsDot"
   ]
  },
  {
   "cell_type": "code",
   "execution_count": 5,
   "metadata": {},
   "outputs": [],
   "source": [
    "val_idxs = get_cv_idxs(len(ratings)) # default 20% of dataset, see get_cv_idx in dataset.py\n",
    "wd=2e-4  # weight decay, will talk about later, L2 regularization\n",
    "n_factors = 50  # how big is embedding matrix, dimensionality of embeddings matrix"
   ]
  },
  {
   "cell_type": "code",
   "execution_count": 6,
   "metadata": {},
   "outputs": [],
   "source": [
    "# userid and movieid, may not be contiguous (skip numbers, start at 1 million, skip ...)\n",
    "# we will need to make them contiguous our embeddings matrix will be unnecesarily large\n",
    "\n",
    "# first thing is mapping from every userid to a contiguoius integer, u_uniq\n",
    "# get a list of \n",
    "# dictionalry mapping, user2idx, { } u_unique to unique index super handy\n",
    "#   often need to do it in ML, study it!\n",
    "# replace userid column with the userid index\n",
    "# pandas.apply applies arbitrary function, created on the fly with lambda\n",
    "# do the same thing for movies\n",
    "# same matrices before but now has contiguous index\n",
    "\n",
    "# add unique index for users\n",
    "u_uniq = ratings.userId.unique()\n",
    "user2idx = {o:i for i,o in enumerate(u_uniq)}  # object:index\n",
    "ratings.userId = ratings.userId.apply(lambda x: user2idx[x]) # returns the index\n",
    "\n",
    "# add unique index for ratings\n",
    "m_uniq = ratings.movieId.unique()\n",
    "movie2idx = {o:i for i,o in enumerate(m_uniq)}\n",
    "ratings.movieId = ratings.movieId.apply(lambda x: movie2idx[x]) # returns the index\n",
    "\n",
    "# count of users and movies\n",
    "n_users=int(ratings.userId.nunique())   \n",
    "n_movies=int(ratings.movieId.nunique())"
   ]
  },
  {
   "cell_type": "code",
   "execution_count": 9,
   "metadata": {},
   "outputs": [],
   "source": [
    "# two embedding matrices  and lookup our users and movies (items) in the matrices\n",
    "class CFMF(nn.Module):\n",
    "    def __init__(self, n_users, n_movies):\n",
    "        super().__init__()\n",
    "        self.u = nn.Embedding(n_users, n_factors)\n",
    "        self.m = nn.Embedding(n_movies, n_factors)\n",
    "        self.u.weight.data.uniform_(0,0.05)\n",
    "        self.m.weight.data.uniform_(0,0.05)\n",
    "\n",
    "        # use same Columnar model data as we used for Rossman\n",
    "        #  has continuous and categorical varials (there are no categorical)\n",
    "        #  leverage the columnar data model \n",
    "        #   user mini bartch will be [0] 0th column\n",
    "        #   movie mini batch will be [1] 1st column\n",
    "    def forward(self, cats, conts):\n",
    "        users,movies = cats[:,0],cats[:,1]\n",
    "        u,m = self.u(users),self.m(movies) # lookup users and movies .. user id numbered value\n",
    "                                          #  PyTorch can lookup a mini-batch at a time\n",
    "                                          # if we did this manually, would not get GPU accel\n",
    "        return (u*m).sum(1).view(-1, 1)   # here's the dot product\n",
    "    \n",
    " #      return (u*m).sum(1)  # Hiromi return function, \"medium\" ... slightly different\n",
    "    "
   ]
  },
  {
   "cell_type": "code",
   "execution_count": 7,
   "metadata": {},
   "outputs": [],
   "source": [
    "#  create independent and dependent variables\n",
    "x = ratings.drop(['rating', 'timestamp'],axis=1)\n",
    "y = ratings['rating'].astype(np.float32)\n",
    "\n",
    "# this is the same as we used for Rossman, ColumnarModelData as we used previous \n",
    "#   this is the only fastai module, not interesting enough to do details ... \n",
    "data = ColumnarModelData.from_data_frame(path, val_idxs, x, y, ['userId', 'movieId'], 64)"
   ]
  },
  {
   "cell_type": "code",
   "execution_count": 10,
   "metadata": {},
   "outputs": [],
   "source": [
    "\n",
    "model = CFMF(n_users,n_movies).cuda()\n",
    "opt = optim.SGD(model.parameters(), 1e-1, weight_decay=wd, momentum=0.9)\n"
   ]
  },
  {
   "cell_type": "code",
   "execution_count": 11,
   "metadata": {},
   "outputs": [
    {
     "data": {
      "application/vnd.jupyter.widget-view+json": {
       "model_id": "114cf12e88704d428299c71a30a03f47",
       "version_major": 2,
       "version_minor": 0
      },
      "text/plain": [
       "HBox(children=(IntProgress(value=0, description='Epoch', max=10, style=ProgressStyle(description_width='initia…"
      ]
     },
     "metadata": {},
     "output_type": "display_data"
    },
    {
     "name": "stdout",
     "output_type": "stream",
     "text": [
      "epoch      trn_loss   val_loss                                 \n",
      "    0      1.739987   1.797832  \n",
      "    1      1.303684   1.514445                                 \n",
      "    2      1.181558   1.461555                                 \n",
      "    3      1.073532   1.438749                                 \n",
      "    4      1.036666   1.42922                                   \n",
      "    5      0.937269   1.438685                                  \n",
      "    6      0.892375   1.440813                                  \n",
      "    7      0.794129   1.440274                                  \n",
      "    8      0.762279   1.436446                                  \n",
      "    9      0.755305   1.450189                                  \n",
      "\n"
     ]
    },
    {
     "data": {
      "text/plain": [
       "[array([1.45019])]"
      ]
     },
     "execution_count": 11,
     "metadata": {},
     "output_type": "execute_result"
    }
   ],
   "source": [
    "# these nunbers lookign better, down to 0.83, getting close\n",
    "\n",
    "fit(model, data, 10, opt, F.mse_loss)"
   ]
  },
  {
   "cell_type": "markdown",
   "metadata": {},
   "source": [
    "# NN w/ PyTorch (Custom Layer on Top of PyTorch)\n",
    "without day of week"
   ]
  },
  {
   "cell_type": "code",
   "execution_count": 11,
   "metadata": {},
   "outputs": [],
   "source": [
    "# Thus just makes the code a little better and return the embeddings\n",
    "def get_emb(ni,nf):\n",
    "    e = nn.Embedding(ni, nf)\n",
    "    e.weight.data.uniform_(-0.01,0.01)\n",
    "    return e\n",
    "\n",
    "# nh - number of hidden units\n",
    "# NN Advantages\n",
    "# NN approach to collaborative filtering\n",
    "#  choose number hidden layers, RELU, dropout \n",
    "#   \n",
    "class EmbeddingNet(nn.Module):\n",
    "    def __init__(self, n_users, n_movies, nh=10, p1=0.05, p2=0.5,):\n",
    "        super().__init__()\n",
    "        # create embeddings \n",
    "        (self.u, self.m) = [get_emb(*o) for o in [\n",
    "            (n_users, n_factors), (n_movies, n_factors)]]\n",
    "        # create linear layer, created by nn.Linear\n",
    "        #   in ML learn how to do Linear layer from scratch\n",
    "        # create two linear layers ... originally just did 2\n",
    "        # could create a loop here to create more layers\n",
    "        self.lin1 = nn.Linear(n_factors*2, nh)\n",
    "        # this many activations means, linear layer colunms (nh in lin2)\n",
    "        self.lin2 = nn.Linear(nh, 1)\n",
    "        self.drop1 = nn.Dropout(p1)\n",
    "        self.drop2 = nn.Dropout(p2)\n",
    "        \n",
    "    def forward(self, cats, conts):\n",
    "        users,movies = cats[:,0],cats[:,1]\n",
    "        # user and movies embeddings concat on first dimension, torch\n",
    "        #  we will come back to drop out\n",
    "        x = self.drop1(torch.cat([self.u(users),self.m(movies)], dim=1))\n",
    "        #  goes through linear layer and then one activation\n",
    "        #  go through Relu ... functions inside F\n",
    "        x = self.drop2(F.relu(self.lin1(x)))\n",
    "        # return sigmoid ... all functions inside F\n",
    "        return F.sigmoid(self.lin2(x)) * (max_rating-min_rating+1) + min_rating-0.5\n",
    "    \n",
    "    # this is genuine NN, though not very deep, 1 hidden layer"
   ]
  },
  {
   "cell_type": "code",
   "execution_count": 12,
   "metadata": {},
   "outputs": [],
   "source": [
    "min_rating,max_rating = ratings.rating.min(),ratings.rating.max()\n",
    "min_rating,max_rating\n",
    "\n",
    "# now construct the NN, pass to cuda (GPU), difin\n",
    "# all functions\n",
    "wd=1e-5\n",
    "model = EmbeddingNet(n_users, n_movies).cuda()\n",
    "opt = optim.Adam(model.parameters(), 1e-2, weight_decay=wd)"
   ]
  },
  {
   "cell_type": "code",
   "execution_count": 13,
   "metadata": {},
   "outputs": [
    {
     "data": {
      "application/vnd.jupyter.widget-view+json": {
       "model_id": "c2c23b4ad18d4e7bb424c2dfff5e3e30",
       "version_major": 2,
       "version_minor": 0
      },
      "text/plain": [
       "HBox(children=(IntProgress(value=0, description='Epoch', max=10, style=ProgressStyle(description_width='initia…"
      ]
     },
     "metadata": {},
     "output_type": "display_data"
    },
    {
     "name": "stdout",
     "output_type": "stream",
     "text": [
      "epoch      trn_loss   val_loss                                  \n",
      "    0      0.850864   0.803234  \n",
      "    1      0.81824    0.793927                                  \n",
      "    2      0.833568   0.786462                                  \n",
      "    3      0.781164   0.783997                                  \n",
      "    4      0.742855   0.781403                                  \n",
      "    5      0.788319   0.780822                                  \n",
      "    6      0.778614   0.790607                                  \n",
      "    7      0.806005   0.77452                                   \n",
      "    8      0.779248   0.77425                                   \n",
      "    9      0.746672   0.77981                                   \n",
      "\n"
     ]
    },
    {
     "data": {
      "text/plain": [
       "[array([0.77981])]"
      ]
     },
     "execution_count": 13,
     "metadata": {},
     "output_type": "execute_result"
    }
   ],
   "source": [
    "# these nunbers lookign better, down to 0.83, getting close\n",
    "fit(model, data, 5, opt, F.mse_loss)"
   ]
  },
  {
   "cell_type": "markdown",
   "metadata": {},
   "source": [
    "# EmbeddingNet2 w/ Day of week as an Input"
   ]
  },
  {
   "cell_type": "code",
   "execution_count": 241,
   "metadata": {},
   "outputs": [],
   "source": [
    "# Thus just makes the code a little better and return the embeddings\n",
    "def get_emb(ni,nf):\n",
    "    e = nn.Embedding(ni, nf)\n",
    "    e.weight.data.uniform_(-0.01,0.01)\n",
    "    return e\n",
    "\n",
    "class EmbeddingNet2(nn.Module):\n",
    "    def __init__(self, n_users, n_movies, n_days, nfu, nfm, nfd, \n",
    "                nh = [10], drops = [.1, .5]):\n",
    "        super().__init__()\n",
    "        # create embeddings \n",
    "        (self.u, self.m, self.d) = [get_emb(*o) for o in [\n",
    "            (n_users, nfu), (n_movies, nfm), (n_days, nfd)]]\n",
    "        # default to 1 hidden layer\n",
    "        # drops correspond to hidden layer + output layer\n",
    "      \n",
    "        self.lin1 = nn.Linear(nfu + nfm + nfd, nh[0])\n",
    "        self.emb_drop = nn.Dropout(drops[0])\n",
    "\n",
    "        self.lins = nn.ModuleList([\n",
    "            nn.Linear(nh[i], nh[i+1]) for i in range(len(nh)-1)])\n",
    "\n",
    "        for drop in drops:\n",
    "            self.drops = nn.ModuleList([nn.Dropout(drop) for drop in drops])\n",
    "            \n",
    "        self.lastdrop=nn.Dropout(drops[len(drops)-1])\n",
    "        self.lastlin=nn.Linear(nh[len(nh)-1],1)\n",
    "\n",
    "\n",
    "        \n",
    "    def forward(self, cats, conts):\n",
    "        users,movies,days = cats[:,0],cats[:,1],cats[:,2]\n",
    "        # user and movies embeddings concat on first dimension, torch\n",
    "        #  we will come back to drop out\n",
    "        #  goes through linear layer and then activation\n",
    "        #  go through Relu ... functions inside F\n",
    "        # return sigmoid ... all functions inside F\n",
    "        x = self.emb_drop(torch.cat([self.u(users),self.m(movies),self.d(days)], dim=1))\n",
    "        x = F.relu(self.lin1(x))\n",
    "        for l,d, in zip(self.lins, self.drops):\n",
    "            x = d(x)\n",
    "            x = l(x)\n",
    "            x = F.relu(x)\n",
    "        x=self.lastdrop(x)\n",
    "        x=self.lastlin(x)\n",
    "        return F.sigmoid(x) * (max_rating-min_rating+1) + min_rating-0.5\n",
    "    \n",
    "  "
   ]
  },
  {
   "cell_type": "code",
   "execution_count": 242,
   "metadata": {},
   "outputs": [
    {
     "name": "stdout",
     "output_type": "stream",
     "text": [
      "504180\n"
     ]
    },
    {
     "data": {
      "text/html": [
       "<div>\n",
       "<style scoped>\n",
       "    .dataframe tbody tr th:only-of-type {\n",
       "        vertical-align: middle;\n",
       "    }\n",
       "\n",
       "    .dataframe tbody tr th {\n",
       "        vertical-align: top;\n",
       "    }\n",
       "\n",
       "    .dataframe thead th {\n",
       "        text-align: right;\n",
       "    }\n",
       "</style>\n",
       "<table border=\"1\" class=\"dataframe\">\n",
       "  <thead>\n",
       "    <tr style=\"text-align: right;\">\n",
       "      <th></th>\n",
       "      <th>userId</th>\n",
       "      <th>movieId</th>\n",
       "      <th>rating</th>\n",
       "      <th>day</th>\n",
       "      <th>timestamp</th>\n",
       "    </tr>\n",
       "  </thead>\n",
       "  <tbody>\n",
       "    <tr>\n",
       "      <th>0</th>\n",
       "      <td>0</td>\n",
       "      <td>0</td>\n",
       "      <td>4.0</td>\n",
       "      <td>Sunday</td>\n",
       "      <td>964982703</td>\n",
       "    </tr>\n",
       "    <tr>\n",
       "      <th>1</th>\n",
       "      <td>0</td>\n",
       "      <td>1</td>\n",
       "      <td>4.0</td>\n",
       "      <td>Sunday</td>\n",
       "      <td>964981247</td>\n",
       "    </tr>\n",
       "    <tr>\n",
       "      <th>2</th>\n",
       "      <td>0</td>\n",
       "      <td>2</td>\n",
       "      <td>4.0</td>\n",
       "      <td>Sunday</td>\n",
       "      <td>964982224</td>\n",
       "    </tr>\n",
       "    <tr>\n",
       "      <th>3</th>\n",
       "      <td>0</td>\n",
       "      <td>3</td>\n",
       "      <td>5.0</td>\n",
       "      <td>Sunday</td>\n",
       "      <td>964983815</td>\n",
       "    </tr>\n",
       "    <tr>\n",
       "      <th>4</th>\n",
       "      <td>0</td>\n",
       "      <td>4</td>\n",
       "      <td>5.0</td>\n",
       "      <td>Sunday</td>\n",
       "      <td>964982931</td>\n",
       "    </tr>\n",
       "  </tbody>\n",
       "</table>\n",
       "</div>"
      ],
      "text/plain": [
       "   userId  movieId  rating     day  timestamp\n",
       "0       0        0     4.0  Sunday  964982703\n",
       "1       0        1     4.0  Sunday  964981247\n",
       "2       0        2     4.0  Sunday  964982224\n",
       "3       0        3     5.0  Sunday  964983815\n",
       "4       0        4     5.0  Sunday  964982931"
      ]
     },
     "execution_count": 242,
     "metadata": {},
     "output_type": "execute_result"
    }
   ],
   "source": [
    "from datetime import datetime\n",
    "ep_to_day_lambda = lambda x:datetime.fromtimestamp(x/1000).strftime(\"%A\")\n",
    "\n",
    "print(ratings.size)\n",
    "\n",
    "#ratings2=ratings.copy()\n",
    "\n",
    "ratings['day']=ratings['timestamp'].apply(ep_to_day_lambda)\n",
    "ratings[['userId', 'movieId', 'rating',  'day', 'timestamp']].head()"
   ]
  },
  {
   "cell_type": "code",
   "execution_count": 243,
   "metadata": {},
   "outputs": [
    {
     "name": "stdout",
     "output_type": "stream",
     "text": [
      "day percentiles:\n"
     ]
    },
    {
     "data": {
      "text/plain": [
       "Sunday       0.239151\n",
       "Saturday     0.222996\n",
       "Wednesday    0.140763\n",
       "Monday       0.131947\n",
       "Tuesday      0.108791\n",
       "Thursday     0.082352\n",
       "Friday       0.074001\n",
       "Name: day, dtype: float64"
      ]
     },
     "metadata": {},
     "output_type": "display_data"
    },
    {
     "data": {
      "text/plain": [
       "<matplotlib.axes._subplots.AxesSubplot at 0x7f6f4ecec8d0>"
      ]
     },
     "execution_count": 243,
     "metadata": {},
     "output_type": "execute_result"
    },
    {
     "data": {
      "image/png": "[encoded data removed]",
      "text/plain": [
       "<Figure size 864x360 with 1 Axes>"
      ]
     },
     "metadata": {
      "needs_background": "light"
     },
     "output_type": "display_data"
    }
   ],
   "source": [
    "# Day Percentiles\n",
    "#   movie watching by day of the week\n",
    "print(\"day percentiles:\")\n",
    "display(ratings['day'].value_counts()/len(ratings))\n",
    "\n",
    "#.plot(kind='bar',subplots=True, layout=(1,2), figsize=[18,3],rot=70)\n",
    "(ratings.groupby('day')['day'].count()/len(ratings)).sort_values( \n",
    "    ascending = False).plot(kind='bar', rot=70, figsize=[12,5])"
   ]
  },
  {
   "cell_type": "code",
   "execution_count": 244,
   "metadata": {},
   "outputs": [
    {
     "name": "stdout",
     "output_type": "stream",
     "text": [
      "610 9724 7\n"
     ]
    }
   ],
   "source": [
    "# add unique index for days\n",
    "day_uniq = ratings.day.unique()\n",
    "day2idx = {o:i for i,o in enumerate(day_uniq)}  # object:index\n",
    "ratings.day = ratings.day.apply(lambda x: day2idx[x]) # returns the index\n",
    "n_days=int(ratings.day.nunique())\n",
    "\n",
    "print(n_users, n_movies, n_days)"
   ]
  },
  {
   "cell_type": "code",
   "execution_count": 245,
   "metadata": {},
   "outputs": [
    {
     "name": "stdout",
     "output_type": "stream",
     "text": [
      "20167\n"
     ]
    },
    {
     "data": {
      "text/plain": [
       "array([84149, 33458, 72054, ..., 37637, 91598, 19940])"
      ]
     },
     "execution_count": 245,
     "metadata": {},
     "output_type": "execute_result"
    }
   ],
   "source": [
    "from sklearn.model_selection import StratifiedShuffleSplit\n",
    "category='day'\n",
    "split = StratifiedShuffleSplit(n_splits = 1, test_size = 0.8, random_state = 42) \n",
    "\n",
    "for val_idxs, _ in split.split(ratings, ratings[category]): \n",
    "    df_val = ratings.iloc[val_idxs].copy()   # don't really need this part\n",
    "print(len(val_idxs))\n",
    "val_idxs"
   ]
  },
  {
   "cell_type": "code",
   "execution_count": 246,
   "metadata": {},
   "outputs": [
    {
     "name": "stdout",
     "output_type": "stream",
     "text": [
      "20167\n"
     ]
    },
    {
     "data": {
      "text/plain": [
       "array([84149, 33458, 72054, ..., 37637, 91598, 19940])"
      ]
     },
     "execution_count": 246,
     "metadata": {},
     "output_type": "execute_result"
    }
   ],
   "source": [
    "min_rating,max_rating = ratings.rating.min(),ratings.rating.max()\n",
    "min_rating,max_rating\n",
    "wd=2e-4  # weight decay, will talk about later, L2 regularization\n",
    "nfu = 50 #  dimensionality of embeddings matrix\n",
    "nfm = 50  \n",
    "nfd = 4\n",
    "print(len(val_idxs))\n",
    "val_idxs"
   ]
  },
  {
   "cell_type": "code",
   "execution_count": 247,
   "metadata": {},
   "outputs": [],
   "source": [
    "#  create independent and dependent variables\n",
    "\n",
    "x = ratings.drop(['rating', 'timestamp'],axis=1)\n",
    "y = ratings['rating'].astype(np.float32)\n",
    "\n",
    "# this is the same as we used for Rossman, ColumnarModelData as we used previous \n",
    "#   this is the only fastai module, not interesting enough to do details ... \n",
    "data = ColumnarModelData.from_data_frame(path, val_idxs, x, y, ['userId', 'movieId','day'], 64)"
   ]
  },
  {
   "cell_type": "code",
   "execution_count": 248,
   "metadata": {},
   "outputs": [],
   "source": [
    "# .cuda to put it on GPU\n",
    "wd=2e-4\n",
    "#model = EmbeddingNet2(cf.n_users, cf.n_items).cuda()\n",
    "model = EmbeddingNet2(n_users, n_movies,n_days,nfu,nfm,nfd, nh=[30], \n",
    "                       drops = [0.05, 0.5]).cuda()\n",
    "#opt = optim.SGD(model.parameters(), 1e-1, weight_decay=wd, momentum=0.9)\n",
    "opt = optim.Adam(model.parameters(), 1e-3, weight_decay=wd)"
   ]
  },
  {
   "cell_type": "code",
   "execution_count": 249,
   "metadata": {},
   "outputs": [
    {
     "data": {
      "application/vnd.jupyter.widget-view+json": {
       "model_id": "7215cdd12cae49fdbcf730cf5845e1c5",
       "version_major": 2,
       "version_minor": 0
      },
      "text/plain": [
       "HBox(children=(IntProgress(value=0, description='Epoch', max=5, style=ProgressStyle(description_width='initial…"
      ]
     },
     "metadata": {},
     "output_type": "display_data"
    },
    {
     "name": "stdout",
     "output_type": "stream",
     "text": [
      "epoch      trn_loss   val_loss                                  \n",
      "    0      0.77158    0.771764  \n",
      "    1      0.763405   0.750387                                  \n",
      "    2      0.73818    0.747482                                  \n",
      "    3      0.749548   0.741922                                  \n",
      "    4      0.735191   0.748893                                  \n"
     ]
    },
    {
     "data": {
      "text/plain": [
       "[array([0.74889])]"
      ]
     },
     "execution_count": 249,
     "metadata": {},
     "output_type": "execute_result"
    }
   ],
   "source": [
    "# these nunbers lookign better, down to 0.83, getting close\n",
    "fit(model, data, 5, opt, F.mse_loss)"
   ]
  },
  {
   "cell_type": "code",
   "execution_count": 239,
   "metadata": {},
   "outputs": [],
   "source": [
    "model = EmbeddingNet2(n_users, n_movies,n_days,nfu,nfm,nfd, nh=[50, 30], \n",
    "                       drops = [ .05, .2, .5]).cuda()\n",
    "opt = optim.Adam(model.parameters(), 1e-3, weight_decay=wd)"
   ]
  },
  {
   "cell_type": "code",
   "execution_count": null,
   "metadata": {},
   "outputs": [],
   "source": []
  },
  {
   "cell_type": "code",
   "execution_count": 240,
   "metadata": {},
   "outputs": [
    {
     "data": {
      "application/vnd.jupyter.widget-view+json": {
       "model_id": "273c16ee4eeb4c9d8a45afc681a6c3c0",
       "version_major": 2,
       "version_minor": 0
      },
      "text/plain": [
       "HBox(children=(IntProgress(value=0, description='Epoch', max=5, style=ProgressStyle(description_width='initial…"
      ]
     },
     "metadata": {},
     "output_type": "display_data"
    },
    {
     "name": "stdout",
     "output_type": "stream",
     "text": [
      "epoch      trn_loss   val_loss                                  \n",
      "    0      0.794924   0.76525   \n",
      "    1      0.786284   0.746976                                  \n",
      "    2      0.74575    0.735508                                  \n",
      "    3      0.720929   0.736082                                  \n",
      "    4      0.70611    0.735818                                  \n"
     ]
    },
    {
     "data": {
      "text/plain": [
       "[array([0.73582])]"
      ]
     },
     "execution_count": 240,
     "metadata": {},
     "output_type": "execute_result"
    }
   ],
   "source": [
    "# these nunbers lookign better, down to 0.83, getting close\n",
    "fit(model, data, 5, opt, F.mse_loss)"
   ]
  },
  {
   "cell_type": "code",
   "execution_count": 67,
   "metadata": {},
   "outputs": [
    {
     "data": {
      "image/png": "[encoded data removed]",
      "text/plain": [
       "<Figure size 576x432 with 1 Axes>"
      ]
     },
     "metadata": {},
     "output_type": "display_data"
    }
   ],
   "source": [
    "%matplotlib inline\n",
    "import seaborn as sns  \n",
    "import matplotlib.pyplot as plt\n",
    "\n",
    "\n",
    "color = sns.color_palette()\n",
    "sns.set_palette(\"bright\")  # bright colors\n",
    "sns.set_style(\"ticks\")\n",
    "sns.set_style(\"darkgrid\",  {\"axes.facecolor\": \".9\"}) # grey background with grid\n",
    "\n",
    "#plt.rcParams['axes.labelsize'] = 14\n",
    "#plt.rcParams['xtick.labelsize'] = 12\n",
    "#plt.rcParams['ytick.labelsize'] = 12\n",
    "sns.set_context(\"notebook\", font_scale=1.5, rc={\"lines.linewidth\": 2.5})\n",
    "\n",
    "fig, axes = plt.subplots(figsize=(8,6), nrows=1, ncols=1)\n",
    "\n",
    "l1 =[ 1.80665 , 1.503765 ,  1.45577 ,1.435211 , 1.441418 ]\n",
    "l2 = [0.803234 ,  0.793927  , 0.786462   , 0.783997 ,  0.781403 ]\n",
    "l3 =[0.771764, 0.750387  ,  0.747482  , 0.741922  ,  0.748893 ]\n",
    "l4 = [0.76525 ,0.746976 , 0.735508 , 0.736082 , 0.735818 ]\n",
    "dashes=['-','-']\n",
    "\n",
    "data = {'l2': l2, 'l3': l3, 'l4': l4}\n",
    "df = pd.DataFrame( data,index=[1,2,3,4,5])\n",
    "\n",
    "ax1 = sns.lineplot(data=df, dashes=False, hue=df.l2)\n",
    "\n",
    "\n",
    "#ax1=ppv_by_county1[['Statewide']].sort_values(ascending= False).sort_index(level='year', \n",
    "#                        sort_remaining=False).plot(ax=axes[0,0],kind='bar', rot=60)\n",
    "\n",
    "ax1.title.set_text('Statewide, Totals')\n",
    "#fig.subplots_adjust(hspace=.5)\n",
    "#plt.show()"
   ]
  },
  {
   "cell_type": "markdown",
   "metadata": {},
   "source": [
    "# Join Plot"
   ]
  },
  {
   "cell_type": "code",
   "execution_count": 34,
   "metadata": {},
   "outputs": [
    {
     "ename": "NameError",
     "evalue": "name 'preds' is not defined",
     "output_type": "error",
     "traceback": [
      "\u001b[0;31m---------------------------------------------------------------------------\u001b[0m",
      "\u001b[0;31mNameError\u001b[0m                                 Traceback (most recent call last)",
      "\u001b[0;32m<ipython-input-34-d9b70f478c47>\u001b[0m in \u001b[0;36m<module>\u001b[0;34m\u001b[0m\n\u001b[1;32m      1\u001b[0m \u001b[0mget_ipython\u001b[0m\u001b[0;34m(\u001b[0m\u001b[0;34m)\u001b[0m\u001b[0;34m.\u001b[0m\u001b[0mrun_line_magic\u001b[0m\u001b[0;34m(\u001b[0m\u001b[0;34m'matplotlib'\u001b[0m\u001b[0;34m,\u001b[0m \u001b[0;34m'inline'\u001b[0m\u001b[0;34m)\u001b[0m\u001b[0;34m\u001b[0m\u001b[0;34m\u001b[0m\u001b[0m\n\u001b[1;32m      2\u001b[0m \u001b[0my\u001b[0m\u001b[0;34m=\u001b[0m\u001b[0mlearn\u001b[0m\u001b[0;34m.\u001b[0m\u001b[0mdata\u001b[0m\u001b[0;34m.\u001b[0m\u001b[0mval_y\u001b[0m\u001b[0;34m\u001b[0m\u001b[0;34m\u001b[0m\u001b[0m\n\u001b[0;32m----> 3\u001b[0;31m \u001b[0msns\u001b[0m\u001b[0;34m.\u001b[0m\u001b[0mjointplot\u001b[0m\u001b[0;34m(\u001b[0m\u001b[0mpreds\u001b[0m\u001b[0;34m,\u001b[0m \u001b[0my\u001b[0m\u001b[0;34m,\u001b[0m \u001b[0mkind\u001b[0m\u001b[0;34m=\u001b[0m\u001b[0;34m'hex'\u001b[0m\u001b[0;34m,\u001b[0m \u001b[0mstat_func\u001b[0m\u001b[0;34m=\u001b[0m\u001b[0;32mNone\u001b[0m\u001b[0;34m)\u001b[0m\u001b[0;34m;\u001b[0m\u001b[0;34m\u001b[0m\u001b[0;34m\u001b[0m\u001b[0m\n\u001b[0m",
      "\u001b[0;31mNameError\u001b[0m: name 'preds' is not defined"
     ]
    }
   ],
   "source": [
    "%matplotlib inline\n",
    "y=learn.data.val_y\n",
    "sns.jointplot(preds, y, kind='hex', stat_func=None);"
   ]
  },
  {
   "cell_type": "code",
   "execution_count": null,
   "metadata": {},
   "outputs": [],
   "source": []
  }
 ],
 "metadata": {
  "kernelspec": {
   "display_name": "Python 3",
   "language": "python",
   "name": "python3"
  },
  "language_info": {
   "codemirror_mode": {
    "name": "ipython",
    "version": 3
   },
   "file_extension": ".py",
   "mimetype": "text/x-python",
   "name": "python",
   "nbconvert_exporter": "python",
   "pygments_lexer": "ipython3",
   "version": "3.6.8"
  }
 },
 "nbformat": 4,
 "nbformat_minor": 2
}
