{
 "cells": [
  {
   "cell_type": "markdown",
   "metadata": {},
   "source": [
    "## Image Classification, Resnet from scratch with CIFAR 10\n",
    "\n",
    "CIFAR10 is a well known dataset in academia. Well before imagenet. In many ways, small datasets are much more interesting than imagenet. Most of the time you are working with a small number of images so learning these data sets are most interesting. For example, images where cancer nodule exists is like 32 x 32, small, like CIFAR. Imagenet is very expensive, and in many cases you should do it first on CIFAR. \n",
    "\n",
    "People aren't doing carefully tuned experiments, just throughing lots of GPUs and large imagenet type datasets. People also complain about MNIST. If you are trying to understand rich parts of your algorithm then using MNIST is a good idea (not too big). \n",
    "\n",
    "Download CIFAR from location from address below. If you Google for it, you will find some less convenient forms. "
   ]
  },
  {
   "cell_type": "code",
   "execution_count": 1,
   "metadata": {},
   "outputs": [],
   "source": [
    "%matplotlib inline\n",
    "%reload_ext autoreload\n",
    "%autoreload 2"
   ]
  },
  {
   "cell_type": "markdown",
   "metadata": {},
   "source": [
    "You can get the data via:\n",
    "\n",
    "    wget http://pjreddie.com/media/files/cifar.tgz    \n",
    "**Important:** Before proceeding, the student must reorganize the downloaded dataset files to match the expected directory structure, so that there is a dedicated folder for each class under 'test' and 'train', e.g.:\n",
    "\n",
    "```\n",
    "* test/airplane/airplane-1001.png\n",
    "* test/bird/bird-1043.png\n",
    "\n",
    "* train/bird/bird-10018.png\n",
    "* train/automobile/automobile-10000.png\n",
    "```\n",
    "\n",
    "The filename of the image doesn't have to include its class."
   ]
  },
  {
   "cell_type": "code",
   "execution_count": 2,
   "metadata": {},
   "outputs": [
    {
     "name": "stdout",
     "output_type": "stream",
     "text": [
      "test  train\n",
      "airplane  automobile  bird  cat  deer  dog  frog  horse  ship  truck\n"
     ]
    }
   ],
   "source": [
    "from fastai.conv_learner import *\n",
    "PATH = \"data/cifar10/\"\n",
    "os.makedirs(PATH,exist_ok=True)\n",
    "\n",
    "!ls {PATH}\n",
    "\n",
    "if not os.path.exists(f\"{PATH}/train/bird\"):\n",
    "   raise Exception(\"expecting class subdirs under 'train/' and 'test/'\")\n",
    "!ls {PATH}/train"
   ]
  },
  {
   "cell_type": "code",
   "execution_count": 3,
   "metadata": {},
   "outputs": [],
   "source": [
    "# list of classes\n",
    "#  tuple = (\"\",\"\",..) ...  Python immutable list\n",
    "classes = ('plane', 'car', 'bird', 'cat', 'deer', 'dog', 'frog', 'horse', 'ship', 'truck')\n",
    "# normally when useing pre-trained models ... the data is transformed by the model data transform  from model\n",
    "#   creates normalised data set\n",
    "# this time we are creating this from scratch, we need to normalize by std_dev and shift by mean\n",
    "# mean and standard deviation per channel ... did not show the code you should be able to do this\n",
    "#  first array is mean per channel  ... second array are std_dev per channel\n",
    "stats = (np.array([ 0.4914 ,  0.48216,  0.44653]), np.array([ 0.24703,  0.24349,  0.26159]))"
   ]
  },
  {
   "cell_type": "code",
   "execution_count": 4,
   "metadata": {},
   "outputs": [],
   "source": [
    "# We are creating model from scratch so we will need transformation for augmentations \n",
    "# For Cifar10, people usually augment by flipping randomly, horizontally\n",
    "#  below create specific list of augmentations\n",
    "#  add black padding around the edge (pad = sz//8), randomly pick 32 x 32 image within\n",
    "#    if you add pad parameter to any of the fastai transform parameters it will do that\n",
    "#    for you\n",
    "#    add 4 pixes around each side\n",
    "def get_data(sz,bs):\n",
    "    tfms = tfms_from_stats(stats, sz, aug_tfms=[RandomFlip()], pad=sz//8)\n",
    "    return ImageClassifierData.from_paths(PATH, val_name='test', tfms=tfms, bs=bs)"
   ]
  },
  {
   "cell_type": "code",
   "execution_count": 5,
   "metadata": {},
   "outputs": [],
   "source": [
    "# these are small so use batch size of 256\n",
    "bs=256"
   ]
  },
  {
   "cell_type": "markdown",
   "metadata": {},
   "source": [
    "### Look at data"
   ]
  },
  {
   "cell_type": "code",
   "execution_count": 6,
   "metadata": {},
   "outputs": [],
   "source": [
    "data = get_data(32,4)"
   ]
  },
  {
   "cell_type": "code",
   "execution_count": 7,
   "metadata": {},
   "outputs": [],
   "source": [
    "x,y=next(iter(data.trn_dl))"
   ]
  },
  {
   "cell_type": "code",
   "execution_count": 8,
   "metadata": {},
   "outputs": [
    {
     "data": {
      "image/png": "[encoded data removed]",
      "text/plain": [
       "<Figure size 432x288 with 1 Axes>"
      ]
     },
     "metadata": {
      "needs_background": "light"
     },
     "output_type": "display_data"
    }
   ],
   "source": [
    "# sail boat\n",
    "plt.imshow(data.trn_ds.denorm(x)[0]);"
   ]
  },
  {
   "cell_type": "code",
   "execution_count": null,
   "metadata": {},
   "outputs": [
    {
     "data": {
      "image/png": "[encoded data removed]",
      "text/plain": [
       "<matplotlib.figure.Figure at 0x7f596bd2c470>"
      ]
     },
     "metadata": {},
     "output_type": "display_data"
    }
   ],
   "source": [
    "# this is a frog\n",
    "plt.imshow(data.trn_ds.denorm(x)[1]);"
   ]
  },
  {
   "cell_type": "markdown",
   "metadata": {},
   "source": [
    "## Fully connected model"
   ]
  },
  {
   "cell_type": "code",
   "execution_count": 10,
   "metadata": {},
   "outputs": [],
   "source": [
    "data = get_data(32,bs)"
   ]
  },
  {
   "cell_type": "code",
   "execution_count": 11,
   "metadata": {},
   "outputs": [],
   "source": [
    "lr=1e-2"
   ]
  },
  {
   "cell_type": "markdown",
   "metadata": {},
   "source": [
    "## Fully Connected Arhictecture (1 Hidden Layer)\n",
    "\n",
    "Begin with a fully connected network, with input layer, 1 hidden layer, and output layer.\n",
    "\n",
    "Start from rom [this notebook](https://github.com/KeremTurgutlu/deeplearning/blob/master/Exploring%20Optimizers.ipynb) by our student Kerem Turgutlu:\n",
    "\n",
    "The Blog, shows how to create optimizers from scratch with momentum and Adam optimization.\n",
    "It also contains a fully connected network generator, SimpleNet. Like the excel, class example, but used Python. We use his SimpleNet fully connected network  generatork.\n"
   ]
  },
  {
   "cell_type": "code",
   "execution_count": null,
   "metadata": {},
   "outputs": [],
   "source": [
    "class SimpleNet(nn.Module):\n",
    "    def __init__(self, layers):\n",
    "        super().__init__()\n",
    "        # class with list of fully connected layers\n",
    "        # in PyTorch wrap it in nn.ModuleList to register as attributes\n",
    "        self.layers = nn.ModuleList([\n",
    "            nn.Linear(layers[i], layers[i + 1]) for i in range(len(layers) - 1)])\n",
    "        \n",
    "    def forward(self, x):\n",
    "        # flatten the data that comes in because fully connected\n",
    "        x = x.view(x.size(0), -1)\n",
    "        # go through each layer and call the linear layer, then RELU, \n",
    "        #   then finally softmax at the end \n",
    "        for l in self.layers:\n",
    "            l_x = l(x)\n",
    "            x = F.relu(l_x)\n",
    "        return F.log_softmax(l_x, dim=-1)"
   ]
  },
  {
   "cell_type": "code",
   "execution_count": null,
   "metadata": {},
   "outputs": [],
   "source": [
    "# now move higher abstraction in the API, above fit and create learn object\n",
    "# rather than the fit model, create learn object from a custom model\n",
    "# want convolutional learner, \n",
    "# from model\n",
    "# from data using the SimpleNet model, and model data object\n",
    "# simpler than RNN ... no callbacks or cosine anealing\n",
    "\n",
    "learn = ConvLearner.from_model_data(SimpleNet([32*32*3, 40,10]), data)"
   ]
  },
  {
   "cell_type": "code",
   "execution_count": null,
   "metadata": {},
   "outputs": [
    {
     "data": {
      "text/plain": [
       "(SimpleNet(\n",
       "   (layers): ModuleList(\n",
       "     (0): Linear(in_features=3072, out_features=40)\n",
       "     (1): Linear(in_features=40, out_features=10)\n",
       "   )\n",
       " ), [122880, 40, 400, 10])"
      ]
     },
     "execution_count": null,
     "metadata": {},
     "output_type": "execute_result"
    }
   ],
   "source": [
    "# 1 hidden layer\n",
    "# type learn to print it out \n",
    "# 3072 features coming in 32 x 32 x 3 ... 40 feature sout of first layer\n",
    "# 10 CIFAR classes/categories out\n",
    "# 122880 paramters\n",
    "learn, [o.numel() for o in learn.model.parameters()]"
   ]
  },
  {
   "cell_type": "code",
   "execution_count": null,
   "metadata": {},
   "outputs": [
    {
     "data": {
      "text/plain": [
       "OrderedDict([('Linear-1',\n",
       "              OrderedDict([('input_shape', [-1, 3072]),\n",
       "                           ('output_shape', [-1, 40]),\n",
       "                           ('trainable', True),\n",
       "                           ('nb_params', 122920)])),\n",
       "             ('Linear-2',\n",
       "              OrderedDict([('input_shape', [-1, 40]),\n",
       "                           ('output_shape', [-1, 10]),\n",
       "                           ('trainable', True),\n",
       "                           ('nb_params', 410)]))])"
      ]
     },
     "execution_count": null,
     "metadata": {},
     "output_type": "execute_result"
    }
   ],
   "source": [
    "# .summary to show a bit more detail\n",
    "learn.summary()"
   ]
  },
  {
   "cell_type": "code",
   "execution_count": null,
   "metadata": {},
   "outputs": [],
   "source": [
    "learn.lr_find()"
   ]
  },
  {
   "cell_type": "code",
   "execution_count": null,
   "metadata": {},
   "outputs": [
    {
     "name": "stdout",
     "output_type": "stream",
     "text": [
      "\n",
      "\n",
      "                                                            \u001b[A\u001b[A"
     ]
    },
    {
     "data": {
      "image/png": "[encoded data removed]",
      "text/plain": [
       "<matplotlib.figure.Figure at 0x7f4e487ca550>"
      ]
     },
     "metadata": {},
     "output_type": "display_data"
    }
   ],
   "source": [
    "learn.sched.plot()"
   ]
  },
  {
   "cell_type": "code",
   "execution_count": null,
   "metadata": {},
   "outputs": [
    {
     "data": {
      "application/vnd.jupyter.widget-view+json": {
       "model_id": "b1434a390cc24207af4ac1427f681e3e",
       "version_major": 2,
       "version_minor": 0
      },
      "text/plain": [
       "A Jupyter Widget"
      ]
     },
     "metadata": {},
     "output_type": "display_data"
    },
    {
     "name": "stdout",
     "output_type": "stream",
     "text": [
      "[ 0.       1.7658   1.64148  0.42129]                       \n",
      "[ 1.       1.68074  1.57897  0.44131]                       \n",
      "\n",
      "CPU times: user 1min 11s, sys: 32.3 s, total: 1min 44s\n",
      "Wall time: 55.1 s\n"
     ]
    }
   ],
   "source": [
    "%time learn.fit(lr, 2)"
   ]
  },
  {
   "cell_type": "code",
   "execution_count": null,
   "metadata": {},
   "outputs": [
    {
     "data": {
      "application/vnd.jupyter.widget-view+json": {
       "model_id": "0f42d62186f64e33a6037d8f5beb9f57",
       "version_major": 2,
       "version_minor": 0
      },
      "text/plain": [
       "A Jupyter Widget"
      ]
     },
     "metadata": {},
     "output_type": "display_data"
    },
    {
     "name": "stdout",
     "output_type": "stream",
     "text": [
      "[ 0.       1.60857  1.51711  0.46631]                       \n",
      "[ 1.       1.59361  1.50341  0.46924]                       \n",
      "\n",
      "CPU times: user 1min 12s, sys: 31.8 s, total: 1min 44s\n",
      "Wall time: 55.3 s\n"
     ]
    }
   ],
   "source": [
    "# \n",
    "# 1 hidden layer model\n",
    "# 122880 parameters\n",
    "# 47% accuracy ... not great. Lets try and improve it\n",
    "# \n",
    "%time learn.fit(lr, 2, cycle_len=1)"
   ]
  },
  {
   "cell_type": "markdown",
   "metadata": {},
   "source": [
    "## CNN\n",
    "\n",
    "The goal will be to improve and build up to the basic architecture of a RESNET. Let's now adapt from the SimpleNet, fully connected architecture. Recall, that a fully connected layer is doing a dot product, matrix multiply. \n",
    "\n",
    "**Fully connected weight matrix**  \n",
    "- every element of the input x every element of the output\n",
    "- 3072 coming in 40 coming out 3072 x 40 parameters = 122,880 parameters.\n",
    "\n",
    "Even for our crappy accuracy (~46%) ... lots of parameters, 3072 coming in 40 coming out 3072 x 40 parameters  = 122,880 parameters. Rather than fully connected layer, we really prefer to look for patterns with a convolution, a kernal, Tensor, with multiple filters (dimensions)  \n",
    "We will replace nn.linear with nn.2d   \n",
    "\n",
    "**Stride**    \n",
    "Typically today do Stride 2 convolution \n",
    " - instead of moving 1 to the right, move two to the right \n",
    " - similar down two columns\n",
    "\n",
    "**Adaptive max pooling** ... standard in image classification  \n",
    "- not going to tell you how big an area to pool\n",
    "- going to tell you how big a resolution to create\n",
    "- Suppose input is 28 x 28 and do 14 x 14 (output resolution) max pool\n",
    "  - that is the same as 2 x 2 (filter size)\n",
    "- Suppose input is 28 x 28 and do 2 x 2 (output resolution) max pool\n",
    "  - that is the same as 14 x 14 (filter size) \n",
    "  \n",
    "**Penultimate Layer Adaptive Maxpooling**  \n",
    "- Modern CNN. 1 x 1 max pool. Find the single largest cell and use that as our new activation.\n",
    "- We now have 1 x 1 by number of features tensor \n",
    " "
   ]
  },
  {
   "cell_type": "code",
   "execution_count": 1,
   "metadata": {},
   "outputs": [
    {
     "ename": "NameError",
     "evalue": "name 'nn' is not defined",
     "output_type": "error",
     "traceback": [
      "\u001b[0;31m---------------------------------------------------------------------------\u001b[0m",
      "\u001b[0;31mNameError\u001b[0m                                 Traceback (most recent call last)",
      "\u001b[0;32m<ipython-input-1-acf274e03e53>\u001b[0m in \u001b[0;36m<module>\u001b[0;34m\u001b[0m\n\u001b[0;32m----> 1\u001b[0;31m \u001b[0;32mclass\u001b[0m \u001b[0mConvNet\u001b[0m\u001b[0;34m(\u001b[0m\u001b[0mnn\u001b[0m\u001b[0;34m.\u001b[0m\u001b[0mModule\u001b[0m\u001b[0;34m)\u001b[0m\u001b[0;34m:\u001b[0m\u001b[0;34m\u001b[0m\u001b[0m\n\u001b[0m\u001b[1;32m      2\u001b[0m     \u001b[0;32mdef\u001b[0m \u001b[0m__init__\u001b[0m\u001b[0;34m(\u001b[0m\u001b[0mself\u001b[0m\u001b[0;34m,\u001b[0m \u001b[0mlayers\u001b[0m\u001b[0;34m,\u001b[0m \u001b[0mc\u001b[0m\u001b[0;34m)\u001b[0m\u001b[0;34m:\u001b[0m\u001b[0;34m\u001b[0m\u001b[0m\n\u001b[1;32m      3\u001b[0m         \u001b[0msuper\u001b[0m\u001b[0;34m(\u001b[0m\u001b[0;34m)\u001b[0m\u001b[0;34m.\u001b[0m\u001b[0m__init__\u001b[0m\u001b[0;34m(\u001b[0m\u001b[0;34m)\u001b[0m\u001b[0;34m\u001b[0m\u001b[0m\n\u001b[1;32m      4\u001b[0m         self.layers = nn.ModuleList([  # module list registers all layers and parameters with PyTorch\n\u001b[1;32m      5\u001b[0m             \u001b[0;31m# first two parameters are the same as nn.linear\u001b[0m\u001b[0;34m\u001b[0m\u001b[0;34m\u001b[0m\u001b[0m\n",
      "\u001b[0;31mNameError\u001b[0m: name 'nn' is not defined"
     ]
    }
   ],
   "source": [
    "class ConvNet(nn.Module):\n",
    "    def __init__(self, layers, c):\n",
    "        super().__init__()\n",
    "        self.layers = nn.ModuleList([  # module list registers all layers and parameters with PyTorch\n",
    "            # first two parameters are the same as nn.linear \n",
    "            #   number of features coming in and features coming out\n",
    "            # each time have layer, want to make the next layer smaller\n",
    "            # previously did max pooling, not typical today. Instead, usually use stride 2\n",
    "            # stride 2 has the same effect as max pooling, halving the resolution \n",
    "            # 3 x 3 filter \n",
    "            # stride of 2 convolution ... every second \n",
    "            # kernal size = 3, meaning 3 x 3 \n",
    "            nn.Conv2d(layers[i], layers[i + 1], kernel_size=3, stride=2)\n",
    "            for i in range(len(layers) - 1)])\n",
    "        \n",
    "        # adaptive max pooling ... standard in image classification\n",
    "        #   not going to tell you how big an area to pool\n",
    "        #   going to tell you how big a resolution to create\n",
    "        #   Suppose input is 28 x 28 and do 14 x 14 (output resolution) max pool\n",
    "        #    that is the same as 2 x 2 (filter size)\n",
    "        #   Suppose input is 28 x 28 and do 2 x 2 (output resolution) max pool\n",
    "        #    that is the same as 14 x 14 (filter size)        \n",
    "        #\n",
    "        #   Penultamate layer in modern CNN is 1x1 adaptive max pool\n",
    "        #     1x1 adaptive max pool resolution ... \n",
    "        #     single largest cell use that as our new activation\n",
    "        #     now have 1 x 1 tensor by number of features\n",
    "        self.pool = nn.AdaptiveMaxPool2d(1)\n",
    "        #  last thing passed in is how many classes \"c\" used for the last layer\n",
    "        self.out = nn.Linear(layers[-1], c)\n",
    "        \n",
    "    def forward(self, x):\n",
    "           # go through every convolutional layer and do the convolution and relu\n",
    "        for l in self.layers: x = F.relu(l(x))\n",
    "          # Adaptive max pool\n",
    "        x = self.pool(x)      \n",
    "           # Next statement returns matrix of size bs x N_features \n",
    "           #  ... feeds into last layer ... self.out\n",
    "           # gets rid of trailing 1 x 1 axis\n",
    "        x = x.view(x.size(0), -1) \n",
    "               \n",
    "        return F.log_softmax(self.out(x), dim=-1)"
   ]
  },
  {
   "cell_type": "code",
   "execution_count": null,
   "metadata": {},
   "outputs": [],
   "source": [
    "\n",
    "#  ConvNet\n",
    "#   3 channles coming in \n",
    "#   first layer out 20, 40, then 80\n",
    "\n",
    "learn = ConvLearner.from_model_data(ConvNet([3, 20, 40, 80], 10), data)"
   ]
  },
  {
   "cell_type": "markdown",
   "metadata": {},
   "source": [
    "#### learn summary - see here how it works ... \n",
    "\n",
    "fully convolutional network - all layers convolutional but the last layer  \n",
    "Note, the 3 x 3 kernals will expand the dimensions, but our specified   \n",
    "dimentions of 20, 40, 80 will then be applied resulting the sizes below  \n",
    "- Goes from 3 x 32 x 32 , to 20 x 15 x 15 , 40 x 7 x7 , 80 x 3 x3 ...\n",
    "- **Padding**\n",
    "  - notice that the output of this layer is 15 x 15 not 16 x 16. This is because the 3 x 3 kernal does not pick up the edge. There is no padding. If we were to zero pad by 1, then it would pick up the edge and the output would be 16 x 16\n",
    "  - also, with padding next layer will be 8 x 8 instead of 7 x 7\n",
    "  - Padding doesn't make too much difference at the 15 x 15 layer, however when we get down to small layers like 3 x 3 then having 4 x 4 rather than 3 x 3 will make a difference.\n",
    "- adaptive max pool makes it 80 x 1 x 1 ... \n",
    "- view makes it min batch size by 80 -> bs x 80\n",
    "- linear layer takes from 80 to 10 \n",
    "\n",
    "```\n",
    "learn.summary()\n",
    "OrderedDict([('Conv2d-1',\n",
    "              OrderedDict([('input_shape', [-1, 3, 32, 32]),\n",
    "                           ('output_shape', [-1, 20, 15, 15]),\n",
    "                           ('trainable', True),\n",
    "                           ('nb_params', 560)])),\n",
    "             ('Conv2d-2',\n",
    "              OrderedDict([('input_shape', [-1, 20, 15, 15]),\n",
    "                           ('output_shape', [-1, 40, 7, 7]),\n",
    "                           ('trainable', True),\n",
    "                           ('nb_params', 7240)])),\n",
    "             ('Conv2d-3',\n",
    "              OrderedDict([('input_shape', [-1, 40, 7, 7]),\n",
    "                           ('output_shape', [-1, 80, 3, 3]),\n",
    "                           ('trainable', True),\n",
    "                           ('nb_params', 28880)])),\n",
    "             ('AdaptiveMaxPool2d-4',\n",
    "              OrderedDict([('input_shape', [-1, 80, 3, 3]),\n",
    "                           ('output_shape', [-1, 80, 1, 1]),\n",
    "                           ('nb_params', 0)])),\n",
    "             ('Linear-5',\n",
    "              OrderedDict([('input_shape', [-1, 80]),\n",
    "                           ('output_shape', [-1, 10]),\n",
    "                           ('trainable', True),\n",
    "                           ('nb_params', 810)]))])\n",
    "```"
   ]
  },
  {
   "cell_type": "code",
   "execution_count": 5,
   "metadata": {},
   "outputs": [
    {
     "ename": "NameError",
     "evalue": "name 'learn' is not defined",
     "output_type": "error",
     "traceback": [
      "\u001b[0;31m---------------------------------------------------------------------------\u001b[0m",
      "\u001b[0;31mNameError\u001b[0m                                 Traceback (most recent call last)",
      "\u001b[0;32m<ipython-input-5-f0ce3513ee59>\u001b[0m in \u001b[0;36m<module>\u001b[0;34m\u001b[0m\n\u001b[1;32m      7\u001b[0m \u001b[0;31m#   .view makes it min batch size by 80 -> bs x 80\u001b[0m\u001b[0;34m\u001b[0m\u001b[0;34m\u001b[0m\u001b[0m\n\u001b[1;32m      8\u001b[0m \u001b[0;31m#    linear layer takes from 80 to 10\u001b[0m\u001b[0;34m\u001b[0m\u001b[0;34m\u001b[0m\u001b[0m\n\u001b[0;32m----> 9\u001b[0;31m \u001b[0mlearn\u001b[0m\u001b[0;34m.\u001b[0m\u001b[0msummary\u001b[0m\u001b[0;34m(\u001b[0m\u001b[0;34m)\u001b[0m\u001b[0;34m\u001b[0m\u001b[0m\n\u001b[0m",
      "\u001b[0;31mNameError\u001b[0m: name 'learn' is not defined"
     ]
    }
   ],
   "source": [
    "# learn.summary - see here how it works ... \n",
    "#  fully convolutional network - all layers convolutional but the last layer\n",
    "#  Note, the 3 x 3 kernals will expand the dimensions, but our specified \n",
    "#   dimentions of 20, 40, 80 will then be applied resulting the sizes below\n",
    "#    goes from 3 x 32 x 32 , to 20 x 15 x 15 , 40 x 7 x7 , 80 x 3 x3 ...\n",
    "#    adaptive max pool makes it 80 x 1 x 1 ... \n",
    "#   .view makes it min batch size by 80 -> bs x 80\n",
    "#    linear layer takes from 80 to 10 \n",
    "learn.summary()\n"
   ]
  },
  {
   "cell_type": "code",
   "execution_count": null,
   "metadata": {},
   "outputs": [
    {
     "data": {
      "application/vnd.jupyter.widget-view+json": {
       "model_id": "d565d2bc5ccf4f02926d0258085419b7",
       "version_major": 2,
       "version_minor": 0
      },
      "text/plain": [
       "A Jupyter Widget"
      ]
     },
     "metadata": {},
     "output_type": "display_data"
    },
    {
     "name": "stdout",
     "output_type": "stream",
     "text": [
      " 70%|███████   | 138/196 [00:16<00:09,  6.42it/s, loss=2.49]"
     ]
    }
   ],
   "source": [
    "# went through all data set and kept getting better, default final learning rate 10\n",
    "# overide to try more things 100\n",
    "\n",
    "learn.lr_find(end_lr=100)"
   ]
  },
  {
   "cell_type": "code",
   "execution_count": null,
   "metadata": {},
   "outputs": [
    {
     "data": {
      "image/png": "[encoded data removed]",
      "text/plain": [
       "<matplotlib.figure.Figure at 0x7f936c7052b0>"
      ]
     },
     "metadata": {},
     "output_type": "display_data"
    }
   ],
   "source": [
    "learn.sched.plot()"
   ]
  },
  {
   "cell_type": "code",
   "execution_count": null,
   "metadata": {},
   "outputs": [
    {
     "data": {
      "application/vnd.jupyter.widget-view+json": {
       "model_id": "c1285ab3ded54265bb94ee2bd513493f",
       "version_major": 2,
       "version_minor": 0
      },
      "text/plain": [
       "A Jupyter Widget"
      ]
     },
     "metadata": {},
     "output_type": "display_data"
    },
    {
     "name": "stdout",
     "output_type": "stream",
     "text": [
      "[ 0.       1.72594  1.63399  0.41338]                       \n",
      "[ 1.       1.51599  1.49687  0.45723]                       \n",
      "\n",
      "CPU times: user 1min 14s, sys: 32.3 s, total: 1min 46s\n",
      "Wall time: 56.5 s\n"
     ]
    }
   ],
   "source": [
    "%time learn.fit(1e-1, 2)"
   ]
  },
  {
   "cell_type": "code",
   "execution_count": null,
   "metadata": {},
   "outputs": [
    {
     "data": {
      "application/vnd.jupyter.widget-view+json": {
       "model_id": "5ced4fe4a75a4425a4edc3fac43af952",
       "version_major": 2,
       "version_minor": 0
      },
      "text/plain": [
       "A Jupyter Widget"
      ]
     },
     "metadata": {},
     "output_type": "display_data"
    },
    {
     "name": "stdout",
     "output_type": "stream",
     "text": [
      "[ 0.       1.36734  1.28901  0.53418]                       \n",
      "[ 1.       1.28854  1.21991  0.56143]                       \n",
      "[ 2.       1.22854  1.15514  0.58398]                       \n",
      "[ 3.       1.17904  1.12523  0.59922]                       \n",
      "\n",
      "CPU times: user 2min 21s, sys: 1min 3s, total: 3min 24s\n",
      "Wall time: 1min 46s\n"
     ]
    }
   ],
   "source": [
    "# accuracy improved from 46% to almost 60%\n",
    "# network parameters around 30K, much smaller than before (128K) but have better accuracy\n",
    "# time per epoch about 32s ... for small architectures time is due to memory transfers\n",
    "%time learn.fit(1e-1, 4, cycle_len=1)"
   ]
  },
  {
   "cell_type": "markdown",
   "metadata": {},
   "source": [
    "## Refactor CNN\n",
    "\n",
    "- put less stuff in forward... calling relu every time not idea\n",
    "- new class ConvLayer, convolution kernal 3, and also add padding\n",
    "\n",
    "**More Layers**  add Batch Norm\n",
    "- tried to add more layers but it was not \"resilient\"\n",
    "   - smaller network not too accurate\n",
    "   - larter network unstable\n",
    "- try batch norm\n",
    "- learn = ConvLearner.from_model_data(ConvNet2([3, 20, 40, 80], 10), data)\n",
    "- back in the old days that was considered large network, but now considered quite simple\n",
    "\n",
    "**Batch Normalization** (Batch Norm)  \n",
    "- Batch norm a couple of years old, but key to keeping the network stable\n",
    "- to use batch norm, just have to write nn.batchnorn, but we will write it from scratch\n",
    "  "
   ]
  },
  {
   "cell_type": "code",
   "execution_count": null,
   "metadata": {},
   "outputs": [],
   "source": [
    "# ConvLayer class keeps the ConvNet2 below simple and easier to maintain\n",
    "#   easier to make sure it is correct\n",
    "# Create NN layer\n",
    "# Nice thing about PyTorch is \n",
    "#   Layer definition and NN definition identical\n",
    "#     both have a Constructor and Layer\n",
    "#   o Layer can be used as NN\n",
    "#   o NN can be used as Layer\n",
    "\n",
    "class ConvLayer(nn.Module):\n",
    "    def __init__(self, ni, nf):\n",
    "        super().__init__()\n",
    "          # sets the convolutional layer defaults, kernal, strid, padding ... \n",
    "        self.conv = nn.Conv2d(ni, nf, kernel_size=3, stride=2, padding=1)\n",
    "          # forward contains RELU\n",
    "    def forward(self, x): return F.relu(self.conv(x))"
   ]
  },
  {
   "cell_type": "code",
   "execution_count": null,
   "metadata": {},
   "outputs": [],
   "source": [
    "class ConvNet2(nn.Module):\n",
    "    def __init__(self, layers, c):\n",
    "        super().__init__()\n",
    "                            # use ConvLayer\n",
    "        self.layers = nn.ModuleList([ConvLayer(layers[i], layers[i + 1])\n",
    "            for i in range(len(layers) - 1)])\n",
    "        self.out = nn.Linear(layers[-1], c)\n",
    "        \n",
    "    def forward(self, x):\n",
    "        for l in self.layers: x = l(x)\n",
    "            # note here call adaptive max pool as a function\n",
    "            # since it does not have any state don't need to do object (use class) as above\n",
    "            #   no weights, not state, just call it as a function\n",
    "            #   everything you can do as a class you can do as a function inside capital F\n",
    "        x = F.adaptive_max_pool2d(x, 1)\n",
    "        x = x.view(x.size(0), -1)\n",
    "        return F.log_softmax(self.out(x), dim=-1)"
   ]
  },
  {
   "cell_type": "code",
   "execution_count": null,
   "metadata": {},
   "outputs": [],
   "source": [
    "learn = ConvLearner.from_model_data(ConvNet2([3, 20, 40, 80], 10), data)"
   ]
  },
  {
   "cell_type": "code",
   "execution_count": null,
   "metadata": {},
   "outputs": [
    {
     "data": {
      "text/plain": [
       "OrderedDict([('Conv2d-1',\n",
       "              OrderedDict([('input_shape', [-1, 3, 32, 32]),\n",
       "                           ('output_shape', [-1, 20, 16, 16]),\n",
       "                           ('trainable', True),\n",
       "                           ('nb_params', 560)])),\n",
       "             ('ConvLayer-2',\n",
       "              OrderedDict([('input_shape', [-1, 3, 32, 32]),\n",
       "                           ('output_shape', [-1, 20, 16, 16]),\n",
       "                           ('nb_params', 0)])),\n",
       "             ('Conv2d-3',\n",
       "              OrderedDict([('input_shape', [-1, 20, 16, 16]),\n",
       "                           ('output_shape', [-1, 40, 8, 8]),\n",
       "                           ('trainable', True),\n",
       "                           ('nb_params', 7240)])),\n",
       "             ('ConvLayer-4',\n",
       "              OrderedDict([('input_shape', [-1, 20, 16, 16]),\n",
       "                           ('output_shape', [-1, 40, 8, 8]),\n",
       "                           ('nb_params', 0)])),\n",
       "             ('Conv2d-5',\n",
       "              OrderedDict([('input_shape', [-1, 40, 8, 8]),\n",
       "                           ('output_shape', [-1, 80, 4, 4]),\n",
       "                           ('trainable', True),\n",
       "                           ('nb_params', 28880)])),\n",
       "             ('ConvLayer-6',\n",
       "              OrderedDict([('input_shape', [-1, 40, 8, 8]),\n",
       "                           ('output_shape', [-1, 80, 4, 4]),\n",
       "                           ('nb_params', 0)])),\n",
       "             ('Linear-7',\n",
       "              OrderedDict([('input_shape', [-1, 80]),\n",
       "                           ('output_shape', [-1, 10]),\n",
       "                           ('trainable', True),\n",
       "                           ('nb_params', 810)]))])"
      ]
     },
     "execution_count": null,
     "metadata": {},
     "output_type": "execute_result"
    }
   ],
   "source": [
    "learn.summary()"
   ]
  },
  {
   "cell_type": "code",
   "execution_count": null,
   "metadata": {},
   "outputs": [
    {
     "data": {
      "application/vnd.jupyter.widget-view+json": {
       "model_id": "27475f522efa4c8aa396ab71a7d8d6cb",
       "version_major": 2,
       "version_minor": 0
      },
      "text/plain": [
       "A Jupyter Widget"
      ]
     },
     "metadata": {},
     "output_type": "display_data"
    },
    {
     "name": "stdout",
     "output_type": "stream",
     "text": [
      "[ 0.       1.70151  1.64982  0.3832 ]                       \n",
      "[ 1.       1.50838  1.53231  0.44795]                       \n",
      "\n",
      "CPU times: user 1min 6s, sys: 28.5 s, total: 1min 35s\n",
      "Wall time: 48.8 s\n"
     ]
    }
   ],
   "source": [
    "%time learn.fit(1e-1, 2)"
   ]
  },
  {
   "cell_type": "code",
   "execution_count": null,
   "metadata": {},
   "outputs": [
    {
     "data": {
      "application/vnd.jupyter.widget-view+json": {
       "model_id": "53263fbac4df4d68a529026d9fcbbd91",
       "version_major": 2,
       "version_minor": 0
      },
      "text/plain": [
       "A Jupyter Widget"
      ]
     },
     "metadata": {},
     "output_type": "display_data"
    },
    {
     "name": "stdout",
     "output_type": "stream",
     "text": [
      "[ 0.       1.51605  1.42927  0.4751 ]                       \n",
      "[ 1.       1.40143  1.33511  0.51787]                       \n",
      "\n",
      "CPU times: user 1min 6s, sys: 27.7 s, total: 1min 34s\n",
      "Wall time: 48.7 s\n"
     ]
    }
   ],
   "source": [
    "%time learn.fit(1e-1, 2, cycle_len=1)"
   ]
  },
  {
   "cell_type": "markdown",
   "metadata": {},
   "source": [
    "## BatchNorm\n",
    "\n",
    "**Basic idea**  \n",
    "The basic idea of batch norm is we have some vector of activations (pretend mini-batch of 1). Coming into some layer, probably some convolutional matrix multiplication. Suppose its the identity matrix. Activations not getting bigger or smaller. Now imagine that it is 2 x Identity matrix, this would be expontinal growth. Gradients would explode exponentially. Challenge is that unlikely that weight matrices not going to cause activations to get smaller and smaller or bigger and bigger.  \n",
    "\n",
    "Basic intuition is you normalize all the la  \n",
    "Subtracting out means and normalizing then adding learned weights to do the same seems weired \n",
    "People dont know why exactly it works ... you are already normalizng   \n",
    "Intuitively you are normalizing the data then you can shift and scale it using far fewer   paramters instad of shifting and scaling all convolutonal filters.  \n",
    "\n",
    "**Normalize every layer**  \n",
    "We start with zero mean std-dev of inputs. But, what we really want is to standardize every layer. \n",
    "\n",
    "**BN also regularizes**  \n",
    "IT also regularizes ... you can reduce or decrease dropout\n",
    "\n",
    "**Benefits of Batchnorm**  \n",
    "- increase learning rates\n",
    "- relisiliency of training\n",
    "- add more layers \n",
    "\n",
    "**Batch Norm only during training**  \n",
    "during validation you don't want to be changing the meaning of the model  \n",
    "some layers are sensitive to the type of mode, for example, train or eval mode (test)  \n",
    "\n",
    "**Pre Traiined Networks** \n",
    "If pre-trained network, should parameters not be changed if the layer is frozen. BN set freeze = True don't change the norms and variances. Sometimes for Pre-trained turn freeze on works better.\n",
    "\n",
    "**Oblation study BN placement** \n",
    "try turning on and off different pieces of your network to see what is being excited. The paper puts BN after RELU though by obliation study there are better places. \n",
    "\n",
    "\n",
    "Dont see any reason not to use batch norm. May be a bii more challenging on RNN, but still possible. \n",
    "\n",
    "**Data Normalization**\n",
    "Do it anyway, people using your data, will know how you normalize. Though, with batch norm, batch norm will normalize. Better to do your own initial normalization.\n",
    "\n",
    "**RELU placement**  \n",
    "The approach we use for RELU before the batchnorm. Resnet they are using Conv-RELU-BN-Conv-BN"
   ]
  },
  {
   "cell_type": "code",
   "execution_count": null,
   "metadata": {},
   "outputs": [],
   "source": [
    "# BN Layer exactly like ConvLayer\n",
    "# now don't have to standardize the input at all because it will do it automatically\n",
    "# normailzing per channel at input, and later layers per filter\n",
    "#  that is not enough, SGD \"bloody minded\"\n",
    "class BnLayer(nn.Module):\n",
    "    def __init__(self, ni, nf, stride=2, kernel_size=3):\n",
    "        super().__init__()\n",
    "           # like ConvLayer, has Conv2d, stride, kernal, padding ... \n",
    "           # by saying its an nn thats how we flag it to PyTorch to updated it through backprop\n",
    "        self.conv = nn.Conv2d(ni, nf, kernel_size=kernel_size, stride=stride,\n",
    "                              bias=False, padding=1)\n",
    "        self.a = nn.Parameter(torch.zeros(nf,1,1))\n",
    "        self.m = nn.Parameter(torch.ones(nf,1,1))\n",
    "        \n",
    "    def forward(self, x):\n",
    "           # Conv and Relu\n",
    "        x = F.relu(self.conv(x))\n",
    "        \n",
    "        # batch norm is after the RELU .. same place as in the paper \n",
    "        x_chan = x.transpose(0,1).contiguous().view(x.size(1), -1)\n",
    "           # true when applied to training set, not on validation set\n",
    "           # during validation you don't want to be changing the meaning of the model\n",
    "           #   some layers are sensitive to the type of mode, for example, train or eval (test)\n",
    "        if self.training:\n",
    "           # calculate means and std_dev of each channel\n",
    "            # this also regularizes and also slighthly the meaning of the conv filters\n",
    "            #   it has a regularizing effect can reduce or sometimes eliminate dropout\n",
    "            #   when you add noise of any kind it regularizes\n",
    "            # in real BN you use exponentially weighted average\n",
    "            self.means = x_chan.mean(1)[:,None,None]\n",
    "            self.stds  = x_chan.std (1)[:,None,None]\n",
    "            # subtract means and dev std_dev\n",
    "            # the norm will not help, because SGD will try and undo it the next mini batch\n",
    "            # so what we do we create a new multiplier for each channel and a new added value\n",
    "            #   start them out as a addition bunch of zeros, and multipliers are 1's\n",
    "            #   we potentially undo what we just did \n",
    "            #   these are done for each channel ... first layer 3 1's and 3 0's\n",
    "            #  NN.parameter you are allowed to learn these as weights\n",
    "            # Now, if wants to scale the layer up, can just scale this set trio of numbers\n",
    "            #   not every parameter of the airport\n",
    "            # Batch norm paper particularly interesting paper\n",
    "            #   lots of people don't know quite how it works \n",
    "            #   intuitively, normalizing the data, and you can shift and scale\n",
    "            #   using far few parameters than shifting and scaling all conv. filters\n",
    "            # Essentially allows us to increase learning rates and allows us to add\n",
    "            #   more layers\n",
    "            # Note, in PyTorch version most likely add an Epsilon to the divide so do not divide by zero\n",
    "        return (x-self.means) / self.stds *self.m + self.a"
   ]
  },
  {
   "cell_type": "code",
   "execution_count": null,
   "metadata": {},
   "outputs": [],
   "source": [
    "class ConvBnNet(nn.Module):\n",
    "    def __init__(self, layers, c):\n",
    "        super().__init__()\n",
    "            # also added a single convolutional layer at the start\n",
    "            # To get closer to modern approaches\n",
    "            # added a single convelutional layer at the start\n",
    "            # with a bigger Kernal size and stride of 1\n",
    "            #   want first layer to have a richer input\n",
    "            #   used to have kernal of 3\n",
    "            #   if start with input, convolution with bigger area\n",
    "            #   allows to find bigger richer inputs with more features\n",
    "            #   this case 5 x 5 \n",
    "            #    spit out 10 5 x 5 filters \n",
    "            #   today \n",
    "            #   Today every state of the art DL Image processor starts out\n",
    "            #   with a larger kernal e.g. 5x5, 7 x7 or even 11 x 11\n",
    "            #   with quite a few filters, like 32 filters. \n",
    "            #   Because used stride of 1 and padding \n",
    "            #    (kernal size - 1)/ 2 = (5 - 1) 2 my output\n",
    "            #    will be just as big as my input\n",
    "            #   The difference is it will have more filters\n",
    "            #   This is a good way of creating a richer starting point\n",
    "            #   of sequence of convolutional layers\n",
    "        self.conv1 = nn.Conv2d(3, 10, kernel_size=5, stride=1, padding=2)\n",
    "              # Change ConvLayer to BnLayer here \n",
    "        self.layers = nn.ModuleList([BnLayer(layers[i], layers[i + 1])\n",
    "            for i in range(len(layers) - 1)])\n",
    "        self.out = nn.Linear(layers[-1], c)\n",
    "        \n",
    "    def forward(self, x):\n",
    "        x = self.conv1(x)\n",
    "        for l in self.layers: x = l(x)\n",
    "        x = F.adaptive_max_pool2d(x, 1)\n",
    "        x = x.view(x.size(0), -1)\n",
    "        return F.log_softmax(self.out(x), dim=-1)"
   ]
  },
  {
   "cell_type": "code",
   "execution_count": null,
   "metadata": {},
   "outputs": [],
   "source": [
    "# after adding the bn layer can now add more layers here\n",
    "learn = ConvLearner.from_model_data(ConvBnNet([10, 20, 40, 80, 160], 10), data)"
   ]
  },
  {
   "cell_type": "code",
   "execution_count": null,
   "metadata": {},
   "outputs": [
    {
     "data": {
      "text/plain": [
       "OrderedDict([('Conv2d-1',\n",
       "              OrderedDict([('input_shape', [-1, 3, 32, 32]),\n",
       "                           ('output_shape', [-1, 10, 32, 32]),\n",
       "                           ('trainable', True),\n",
       "                           ('nb_params', 760)])),\n",
       "             ('Conv2d-2',\n",
       "              OrderedDict([('input_shape', [-1, 10, 32, 32]),\n",
       "                           ('output_shape', [-1, 20, 16, 16]),\n",
       "                           ('trainable', True),\n",
       "                           ('nb_params', 1800)])),\n",
       "             ('BnLayer-3',\n",
       "              OrderedDict([('input_shape', [-1, 10, 32, 32]),\n",
       "                           ('output_shape', [-1, 20, 16, 16]),\n",
       "                           ('nb_params', 0)])),\n",
       "             ('Conv2d-4',\n",
       "              OrderedDict([('input_shape', [-1, 20, 16, 16]),\n",
       "                           ('output_shape', [-1, 40, 8, 8]),\n",
       "                           ('trainable', True),\n",
       "                           ('nb_params', 7200)])),\n",
       "             ('BnLayer-5',\n",
       "              OrderedDict([('input_shape', [-1, 20, 16, 16]),\n",
       "                           ('output_shape', [-1, 40, 8, 8]),\n",
       "                           ('nb_params', 0)])),\n",
       "             ('Conv2d-6',\n",
       "              OrderedDict([('input_shape', [-1, 40, 8, 8]),\n",
       "                           ('output_shape', [-1, 80, 4, 4]),\n",
       "                           ('trainable', True),\n",
       "                           ('nb_params', 28800)])),\n",
       "             ('BnLayer-7',\n",
       "              OrderedDict([('input_shape', [-1, 40, 8, 8]),\n",
       "                           ('output_shape', [-1, 80, 4, 4]),\n",
       "                           ('nb_params', 0)])),\n",
       "             ('Conv2d-8',\n",
       "              OrderedDict([('input_shape', [-1, 80, 4, 4]),\n",
       "                           ('output_shape', [-1, 160, 2, 2]),\n",
       "                           ('trainable', True),\n",
       "                           ('nb_params', 115200)])),\n",
       "             ('BnLayer-9',\n",
       "              OrderedDict([('input_shape', [-1, 80, 4, 4]),\n",
       "                           ('output_shape', [-1, 160, 2, 2]),\n",
       "                           ('nb_params', 0)])),\n",
       "             ('Linear-10',\n",
       "              OrderedDict([('input_shape', [-1, 160]),\n",
       "                           ('output_shape', [-1, 10]),\n",
       "                           ('trainable', True),\n",
       "                           ('nb_params', 1610)]))])"
      ]
     },
     "execution_count": null,
     "metadata": {},
     "output_type": "execute_result"
    }
   ],
   "source": [
    "learn.summary()"
   ]
  },
  {
   "cell_type": "code",
   "execution_count": null,
   "metadata": {},
   "outputs": [
    {
     "data": {
      "application/vnd.jupyter.widget-view+json": {
       "model_id": "4cb9114a5d804bab9fe1ded933eae9f4",
       "version_major": 2,
       "version_minor": 0
      },
      "text/plain": [
       "A Jupyter Widget"
      ]
     },
     "metadata": {},
     "output_type": "display_data"
    },
    {
     "name": "stdout",
     "output_type": "stream",
     "text": [
      "[ 0.       1.4966   1.39257  0.48965]                       \n",
      "[ 1.       1.2975   1.20827  0.57148]                       \n",
      "\n",
      "CPU times: user 1min 16s, sys: 32.5 s, total: 1min 49s\n",
      "Wall time: 54.3 s\n"
     ]
    }
   ],
   "source": [
    "# after a couple of epochs up to 57%\n",
    "%time learn.fit(3e-2, 2)"
   ]
  },
  {
   "cell_type": "code",
   "execution_count": 1,
   "metadata": {},
   "outputs": [
    {
     "ename": "NameError",
     "evalue": "name 'learn' is not defined",
     "output_type": "error",
     "traceback": [
      "\u001b[0;31m---------------------------------------------------------------------------\u001b[0m",
      "\u001b[0;31mNameError\u001b[0m                                 Traceback (most recent call last)",
      "\u001b[0;32m<timed eval>\u001b[0m in \u001b[0;36m<module>\u001b[0;34m\u001b[0m\n",
      "\u001b[0;31mNameError\u001b[0m: name 'learn' is not defined"
     ]
    }
   ],
   "source": [
    "# After a few more up to 68%\n",
    "%time learn.fit(1e-1, 4, cycle_len=1)"
   ]
  },
  {
   "cell_type": "markdown",
   "metadata": {},
   "source": [
    "```\n",
    "[ 0.       1.20966  1.07735  0.61504]                       \n",
    "[ 1.       1.0771   0.97338  0.65215]                       \n",
    "[ 2.       1.00103  0.91281  0.67402]                       \n",
    "[ 3.       0.93574  0.89293  0.68135]                        \n",
    "\n",
    "CPU times: user 2min 34s, sys: 1min 4s, total: 3min 39s\n",
    "Wall time: 1min 50s\n",
    "```"
   ]
  },
  {
   "cell_type": "markdown",
   "metadata": {},
   "source": [
    "## Deep BatchNorm\n",
    "\n",
    "We see, from the previous training of the initial batchnorm model that the accuracy is continuting to increase. Looks encouraging. So, we will try some additional improvements. An obovious thing to try is increase depth of the model. \n",
    "\n",
    "We can't just add stride 2 layers because it keeps decreasing the stride and we are down to 2 x 2 at the end. \n",
    "\n",
    "Instead, for everyone stride 2 layer, create a stride 1 layer. Zip stride one and stride 2, so first do stride 2 then stride 1.\n",
    "\n"
   ]
  },
  {
   "cell_type": "code",
   "execution_count": null,
   "metadata": {},
   "outputs": [],
   "source": [
    "class ConvBnNet2(nn.Module):\n",
    "    def __init__(self, layers, c):\n",
    "        super().__init__()\n",
    "        self.conv1 = nn.Conv2d(3, 10, kernel_size=5, stride=1, padding=2)\n",
    "        \n",
    "          # these are the original stride 2 layers\n",
    "        self.layers = nn.ModuleList([BnLayer(layers[i], layers[i+1])\n",
    "            for i in range(len(layers) - 1)])\n",
    "          # for every stride 2 layer also create a stride 1 layer\n",
    "        self.layers2 = nn.ModuleList([BnLayer(layers[i+1], layers[i + 1], 1)\n",
    "            for i in range(len(layers) - 1)])\n",
    "        self.out = nn.Linear(layers[-1], c)\n",
    "        \n",
    "    def forward(self, x):\n",
    "        x = self.conv1(x)\n",
    "           # stitch the stride 1 and stride 2 layers together\n",
    "           #  first do the stride 2, then the stride 1\n",
    "           # now twice as deep\n",
    "           # end with 2 x 2 that I had before\n",
    "        for l,l2 in zip(self.layers, self.layers2):\n",
    "            x = l(x)\n",
    "            x = l2(x)\n",
    "        x = F.adaptive_max_pool2d(x, 1)\n",
    "        x = x.view(x.size(0), -1)\n",
    "        return F.log_softmax(self.out(x), dim=-1)"
   ]
  },
  {
   "cell_type": "code",
   "execution_count": null,
   "metadata": {},
   "outputs": [],
   "source": [
    "# depth is 5 x 2 + Conv input layer + output layer = 12\n",
    "learn = ConvLearner.from_model_data(ConvBnNet2([10, 20, 40, 80, 160], 10), data)"
   ]
  },
  {
   "cell_type": "code",
   "execution_count": null,
   "metadata": {},
   "outputs": [
    {
     "data": {
      "application/vnd.jupyter.widget-view+json": {
       "model_id": "97674b4107f24900a78b115739f1b294",
       "version_major": 2,
       "version_minor": 0
      },
      "text/plain": [
       "A Jupyter Widget"
      ]
     },
     "metadata": {},
     "output_type": "display_data"
    },
    {
     "name": "stdout",
     "output_type": "stream",
     "text": [
      "[ 0.       1.53499  1.43782  0.47588]                       \n",
      "[ 1.       1.28867  1.22616  0.55537]                       \n",
      "\n",
      "CPU times: user 1min 22s, sys: 34.5 s, total: 1min 56s\n",
      "Wall time: 58.2 s\n"
     ]
    }
   ],
   "source": [
    "# 2 epochs of training \n",
    "%time learn.fit(1e-2, 2)"
   ]
  },
  {
   "cell_type": "code",
   "execution_count": null,
   "metadata": {},
   "outputs": [
    {
     "data": {
      "application/vnd.jupyter.widget-view+json": {
       "model_id": "e1f4198b659c497fb131aaafbdbe449b",
       "version_major": 2,
       "version_minor": 0
      },
      "text/plain": [
       "A Jupyter Widget"
      ]
     },
     "metadata": {},
     "output_type": "display_data"
    },
    {
     "name": "stdout",
     "output_type": "stream",
     "text": [
      "[ 0.       1.10933  1.06439  0.61582]                       \n",
      "[ 1.       1.04663  0.98608  0.64609]                       \n",
      "\n",
      "CPU times: user 1min 21s, sys: 32.9 s, total: 1min 54s\n",
      "Wall time: 57.6 s\n"
     ]
    }
   ],
   "source": [
    "# after 2 more at 65% ... has not helped\n",
    "%time learn.fit(1e-2, 2, cycle_len=1)"
   ]
  },
  {
   "cell_type": "markdown",
   "metadata": {},
   "source": [
    "## Resnet\n",
    "\n",
    "**Deep BatchNorm**\n",
    "In the previous step (Deep Batch Norm), training a 12 layer network with batch norm did not help, though it converged. It's too deep even for batchnorm to handle it. Its possible to train 12 layer Conv net, but its difficult to do it properly, and its not really helping.\n",
    "\n",
    "**Resnet**\n",
    "Let's try replacing this with a Resnet. Create \"ResnetLayer\" class by inheriting from BnLayer and replacing forward with the following.\n",
    "```\n",
    "    def forward(self, x): return x + super().forward(x)\n",
    "```\n",
    "Everything else identical except, see below, addition of more layers layers, 3 times deeper (see __init__) and it will train beautfiully.\n",
    "\n",
    "```\n",
    "   y = x + f(x)  ,y = prediction from the previous layer\n",
    "   where, f(x) a convolution (network)\n",
    "   rearrange and get\n",
    "   f(x) = y - x\n",
    "```\n",
    "\n",
    "**Residual**  \n",
    "This new class is called a ResNet block. Predictions are my input plus a function of my input. Its trying to fit a function. Let's reorder the equation to the difference f(x) = y - x, the residual. What this is doing is trying to fit a fuction to the difference of target output and the input, this difference is the residual, the error. Try to find a set of convolutional weights that fills in the amount that I was off.\n",
    "\n",
    "**Boosting**\n",
    "```\n",
    "  inputs               \n",
    "   x_n -------------- + ----> x_n+1                    ----> ...  \n",
    "        |             |           =  x+ f(x)                       next stage \n",
    "        |      --     |           f(x) at each layer               does the same\n",
    "        |     |  |    |           tries to predict                 thing\n",
    "         -->  |f | ---            and correct for residual\n",
    "              |  |                error\n",
    "               --       \n",
    "               \n",
    "               Each layer is zooming in, closer and closer to our answer\n",
    "               each time get to a certain point, have a residual. At each\n",
    "               layer we have a model, and at each layer we have a residual\n",
    "               prediction of the error and correct. This is based on Boosting \n",
    "               theory              \n",
    "```\n",
    "\n",
    "Each layer is build a model, predict residual, make a correction then next layer build a model, predict the residual, make a correction, etc. \n",
    "\n",
    "A model based on predicting the residual error is based\n",
    "Trick is that by specifying forward (y = x +(fx)) as the thing we are trying to calculate, then we get **boosting for free**, model based on the residual.\n",
    "\n",
    "**Our New Resnet Model**  \n",
    "We now have 3 layers  \n",
    "- Standard batch norm layer ... reduce size by 2 (stride of 2)\n",
    "- Resnet stride 1\n",
    "- Another Resnet layer stride 1\n",
    "Forward function has \n",
    "- zip the three layers\n",
    "- conv at the start\n",
    "- linear at the end\n",
    "\n",
    "Fit keeps going up, fit it again and up  \n",
    "- Resnet a very important development\n",
    "- Allowed to create very deep networks\n",
    "- The full resnet has two calculations\n",
    "\n",
    "\n",
    "\n",
    "\n",
    "\n"
   ]
  },
  {
   "cell_type": "code",
   "execution_count": null,
   "metadata": {},
   "outputs": [],
   "source": [
    "class ResnetLayer(BnLayer):\n",
    "    def forward(self, x): return x + super().forward(x)"
   ]
  },
  {
   "cell_type": "code",
   "execution_count": null,
   "metadata": {},
   "outputs": [],
   "source": [
    "class Resnet(nn.Module):\n",
    "    def __init__(self, layers, c):\n",
    "        super().__init__()\n",
    "        self.conv1 = nn.Conv2d(3, 10, kernel_size=5, stride=1, padding=2)\n",
    "        self.layers = nn.ModuleList([BnLayer(layers[i], layers[i+1])\n",
    "            for i in range(len(layers) - 1)])\n",
    "        self.layers2 = nn.ModuleList([ResnetLayer(layers[i+1], layers[i + 1], 1)\n",
    "            for i in range(len(layers) - 1)])\n",
    "        self.layers3 = nn.ModuleList([ResnetLayer(layers[i+1], layers[i + 1], 1)\n",
    "            for i in range(len(layers) - 1)])\n",
    "        self.out = nn.Linear(layers[-1], c)\n",
    "        \n",
    "    def forward(self, x):\n",
    "        x = self.conv1(x)\n",
    "        for l,l2,l3 in zip(self.layers, self.layers2, self.layers3):\n",
    "            x = l3(l2(l(x)))\n",
    "        x = F.adaptive_max_pool2d(x, 1)\n",
    "        x = x.view(x.size(0), -1)\n",
    "        return F.log_softmax(self.out(x), dim=-1)"
   ]
  },
  {
   "cell_type": "code",
   "execution_count": null,
   "metadata": {},
   "outputs": [],
   "source": [
    "\n",
    "learn = ConvLearner.from_model_data(Resnet([10, 20, 40, 80, 160], 10), data)"
   ]
  },
  {
   "cell_type": "code",
   "execution_count": null,
   "metadata": {},
   "outputs": [],
   "source": [
    "wd=1e-5"
   ]
  },
  {
   "cell_type": "code",
   "execution_count": null,
   "metadata": {},
   "outputs": [
    {
     "data": {
      "application/vnd.jupyter.widget-view+json": {
       "model_id": "df09e75913b1421cbbd6a1972d501799",
       "version_major": 2,
       "version_minor": 0
      },
      "text/plain": [
       "A Jupyter Widget"
      ]
     },
     "metadata": {},
     "output_type": "display_data"
    },
    {
     "name": "stdout",
     "output_type": "stream",
     "text": [
      "[ 0.       1.58191  1.40258  0.49131]                       \n",
      "[ 1.       1.33134  1.21739  0.55625]                       \n",
      "\n",
      "CPU times: user 1min 27s, sys: 34.3 s, total: 2min 1s\n",
      "Wall time: 1min 3s\n"
     ]
    }
   ],
   "source": [
    "%time learn.fit(1e-2, 2, wds=wd)"
   ]
  },
  {
   "cell_type": "code",
   "execution_count": null,
   "metadata": {},
   "outputs": [
    {
     "data": {
      "application/vnd.jupyter.widget-view+json": {
       "model_id": "b3a4151f72b84c40a8df56b6aea340bb",
       "version_major": 2,
       "version_minor": 0
      },
      "text/plain": [
       "A Jupyter Widget"
      ]
     },
     "metadata": {},
     "output_type": "display_data"
    },
    {
     "name": "stdout",
     "output_type": "stream",
     "text": [
      "[ 0.       1.11534  1.05117  0.62549]                       \n",
      "[ 1.       1.06272  0.97874  0.65185]                       \n",
      "[ 2.       0.92913  0.90472  0.68154]                        \n",
      "[ 3.       0.97932  0.94404  0.67227]                        \n",
      "[ 4.       0.88057  0.84372  0.70654]                        \n",
      "[ 5.       0.77817  0.77815  0.73018]                        \n",
      "[ 6.       0.73235  0.76302  0.73633]                        \n",
      "\n",
      "CPU times: user 5min 2s, sys: 1min 59s, total: 7min 1s\n",
      "Wall time: 3min 39s\n"
     ]
    }
   ],
   "source": [
    "%time learn.fit(1e-2, 3, cycle_len=1, cycle_mult=2, wds=wd)"
   ]
  },
  {
   "cell_type": "code",
   "execution_count": null,
   "metadata": {},
   "outputs": [
    {
     "data": {
      "application/vnd.jupyter.widget-view+json": {
       "model_id": "849a1d31a0ca4c39bacd99d34603d642",
       "version_major": 2,
       "version_minor": 0
      },
      "text/plain": [
       "A Jupyter Widget"
      ]
     },
     "metadata": {},
     "output_type": "display_data"
    },
    {
     "name": "stdout",
     "output_type": "stream",
     "text": [
      "[ 0.       0.8307   0.83635  0.7126 ]                        \n",
      "[ 1.       0.74295  0.73682  0.74189]                        \n",
      "[ 2.       0.66492  0.69554  0.75996]                        \n",
      "[ 3.       0.62392  0.67166  0.7625 ]                        \n",
      "[ 4.       0.73479  0.80425  0.72861]                        \n",
      "[ 5.       0.65423  0.68876  0.76318]                        \n",
      "[ 6.       0.58608  0.64105  0.77783]                        \n",
      "[ 7.       0.55738  0.62641  0.78721]                        \n",
      "[ 8.       0.66163  0.74154  0.7501 ]                        \n",
      "[ 9.       0.59444  0.64253  0.78106]                        \n",
      "[ 10.        0.53      0.61772   0.79385]                    \n",
      "[ 11.        0.49747   0.65968   0.77832]                    \n",
      "[ 12.        0.59463   0.67915   0.77422]                    \n",
      "[ 13.        0.55023   0.65815   0.78106]                    \n",
      "[ 14.        0.48959   0.59035   0.80273]                    \n",
      "[ 15.        0.4459    0.61823   0.79336]                    \n",
      "[ 16.        0.55848   0.64115   0.78018]                    \n",
      "[ 17.        0.50268   0.61795   0.79541]                    \n",
      "[ 18.        0.45084   0.57577   0.80654]                    \n",
      "[ 19.        0.40726   0.5708    0.80947]                    \n",
      "[ 20.        0.51177   0.66771   0.78232]                    \n",
      "[ 21.        0.46516   0.6116    0.79932]                    \n",
      "[ 22.        0.40966   0.56865   0.81172]                    \n",
      "[ 23.        0.3852    0.58161   0.80967]                    \n",
      "[ 24.        0.48268   0.59944   0.79551]                    \n",
      "[ 25.        0.43282   0.56429   0.81182]                    \n",
      "[ 26.        0.37634   0.54724   0.81797]                    \n",
      "[ 27.        0.34953   0.54169   0.82129]                    \n",
      "[ 28.        0.46053   0.58128   0.80342]                    \n",
      "[ 29.        0.4041    0.55185   0.82295]                    \n",
      "[ 30.        0.3599    0.53953   0.82861]                    \n",
      "[ 31.        0.32937   0.55605   0.82227]                    \n",
      "\n",
      "CPU times: user 22min 52s, sys: 8min 58s, total: 31min 51s\n",
      "Wall time: 16min 38s\n"
     ]
    }
   ],
   "source": [
    "%time learn.fit(1e-2, 8, cycle_len=4, wds=wd)"
   ]
  },
  {
   "cell_type": "markdown",
   "metadata": {},
   "source": [
    "## Resnet 2\n",
    "\n",
    "**Normally draw with 2 convolutions**   \n",
    "\n",
    "<img src=\"ResnetConcept.png\" size=\"width:300px;height:300px;\" >\n",
    "\n",
    "```\n",
    " input -> 1st convolution -> 2nd convolutiohn -> then add back to the original \n",
    "```\n",
    "\n",
    "Also, in every block, the first one not a resnet block, but a standard convolution with a stride of 2 (self.layers BnLayer kernal_xize=5 ...). This is not a resnet block, called a bottleneck layer. it is not a resnet block, stride 2\n",
    "\n",
    "We will discuss Resnet architecture in part 2.\n",
    "\n",
    "This is a resonable approximation for a modern architexture\n",
    "\n",
    "**Increase size** \n",
    "\n",
    "```\n",
    "learn = ConvLearner.from_model_data(Resnet2([16, 32, 64, 128, 256], 10, 0.2), data)\n",
    "```\n",
    "\n",
    "**Accuracy**  \n",
    "\n",
    "85% ... pretty good \n",
    "\n",
    "Today most recent results are 97%, based on techniques like this\n",
    "\n",
    "To get to state of the art results (discussed in 2nd part of the course). Data augmentation, regularization, tweeks on resnet. "
   ]
  },
  {
   "cell_type": "code",
   "execution_count": null,
   "metadata": {},
   "outputs": [],
   "source": [
    "class Resnet2(nn.Module):\n",
    "    def __init__(self, layers, c, p=0.5):\n",
    "        super().__init__()\n",
    "        self.conv1 = BnLayer(3, 16, stride=1, kernel_size=7)\n",
    "        self.layers = nn.ModuleList([BnLayer(layers[i], layers[i+1])\n",
    "            for i in range(len(layers) - 1)])\n",
    "        self.layers2 = nn.ModuleList([ResnetLayer(layers[i+1], layers[i + 1], 1)\n",
    "            for i in range(len(layers) - 1)])\n",
    "        self.layers3 = nn.ModuleList([ResnetLayer(layers[i+1], layers[i + 1], 1)\n",
    "            for i in range(len(layers) - 1)])\n",
    "        self.out = nn.Linear(layers[-1], c)\n",
    "        self.drop = nn.Dropout(p)\n",
    "        \n",
    "    def forward(self, x):\n",
    "        x = self.conv1(x)\n",
    "        for l,l2,l3 in zip(self.layers, self.layers2, self.layers3):\n",
    "            x = l3(l2(l(x)))\n",
    "        x = F.adaptive_max_pool2d(x, 1)\n",
    "        x = x.view(x.size(0), -1)\n",
    "        x = self.drop(x)\n",
    "        return F.log_softmax(self.out(x), dim=-1)"
   ]
  },
  {
   "cell_type": "code",
   "execution_count": null,
   "metadata": {},
   "outputs": [],
   "source": [
    "learn = ConvLearner.from_model_data(Resnet2([16, 32, 64, 128, 256], 10, 0.2), data)"
   ]
  },
  {
   "cell_type": "code",
   "execution_count": null,
   "metadata": {},
   "outputs": [],
   "source": [
    "wd=1e-6"
   ]
  },
  {
   "cell_type": "code",
   "execution_count": null,
   "metadata": {},
   "outputs": [
    {
     "data": {
      "application/vnd.jupyter.widget-view+json": {
       "model_id": "989b720e9a8542baa1e925ebd8473a93",
       "version_major": 2,
       "version_minor": 0
      },
      "text/plain": [
       "A Jupyter Widget"
      ]
     },
     "metadata": {},
     "output_type": "display_data"
    },
    {
     "name": "stdout",
     "output_type": "stream",
     "text": [
      "[ 0.       1.7051   1.53364  0.46885]                       \n",
      "[ 1.       1.47858  1.34297  0.52734]                       \n",
      "\n",
      "CPU times: user 1min 29s, sys: 35.4 s, total: 2min 4s\n",
      "Wall time: 1min 6s\n"
     ]
    }
   ],
   "source": [
    "%time learn.fit(1e-2, 2, wds=wd)"
   ]
  },
  {
   "cell_type": "code",
   "execution_count": null,
   "metadata": {},
   "outputs": [
    {
     "data": {
      "application/vnd.jupyter.widget-view+json": {
       "model_id": "d338e700ad424bb283ebf7980e70f827",
       "version_major": 2,
       "version_minor": 0
      },
      "text/plain": [
       "A Jupyter Widget"
      ]
     },
     "metadata": {},
     "output_type": "display_data"
    },
    {
     "name": "stdout",
     "output_type": "stream",
     "text": [
      "[ 0.       1.29414  1.26694  0.57041]                       \n",
      "[ 1.       1.21206  1.06634  0.62373]                       \n",
      "[ 2.       1.05583  1.0129   0.64258]                       \n",
      "[ 3.       1.09763  1.11568  0.61318]                       \n",
      "[ 4.       0.97597  0.93726  0.67266]                        \n",
      "[ 5.       0.86295  0.82655  0.71426]                        \n",
      "[ 6.       0.827    0.8655   0.70244]                        \n",
      "\n",
      "CPU times: user 5min 11s, sys: 1min 58s, total: 7min 9s\n",
      "Wall time: 3min 48s\n"
     ]
    }
   ],
   "source": [
    "%time learn.fit(1e-2, 3, cycle_len=1, cycle_mult=2, wds=wd)"
   ]
  },
  {
   "cell_type": "code",
   "execution_count": null,
   "metadata": {},
   "outputs": [
    {
     "data": {
      "application/vnd.jupyter.widget-view+json": {
       "model_id": "37ae7f5e5d6b475aab2c0c4438140f00",
       "version_major": 2,
       "version_minor": 0
      },
      "text/plain": [
       "A Jupyter Widget"
      ]
     },
     "metadata": {},
     "output_type": "display_data"
    },
    {
     "name": "stdout",
     "output_type": "stream",
     "text": [
      "[ 0.       0.92043  0.93876  0.67685]                        \n",
      "[ 1.       0.8359   0.81156  0.72168]                        \n",
      "[ 2.       0.73084  0.72091  0.74463]                        \n",
      "[ 3.       0.68688  0.71326  0.74824]                        \n",
      "[ 4.       0.81046  0.79485  0.72354]                        \n",
      "[ 5.       0.72155  0.68833  0.76006]                        \n",
      "[ 6.       0.63801  0.68419  0.76855]                        \n",
      "[ 7.       0.59678  0.64972  0.77363]                        \n",
      "[ 8.       0.71126  0.78098  0.73828]                        \n",
      "[ 9.       0.63549  0.65685  0.7708 ]                        \n",
      "[ 10.        0.56837   0.63656   0.78057]                    \n",
      "[ 11.        0.52093   0.59159   0.79629]                    \n",
      "[ 12.        0.66463   0.69927   0.76357]                    \n",
      "[ 13.        0.58121   0.64529   0.77871]                    \n",
      "[ 14.        0.52346   0.5751    0.80293]                    \n",
      "[ 15.        0.47279   0.55094   0.80498]                    \n",
      "[ 16.        0.59857   0.64519   0.77559]                    \n",
      "[ 17.        0.54384   0.68057   0.77676]                    \n",
      "[ 18.        0.48369   0.5821    0.80273]                    \n",
      "[ 19.        0.43456   0.54708   0.81182]                    \n",
      "[ 20.        0.54963   0.65753   0.78203]                    \n",
      "[ 21.        0.49259   0.55957   0.80791]                    \n",
      "[ 22.        0.43646   0.55221   0.81309]                    \n",
      "[ 23.        0.39269   0.55158   0.81426]                    \n",
      "[ 24.        0.51039   0.61335   0.7998 ]                    \n",
      "[ 25.        0.4667    0.56516   0.80869]                    \n",
      "[ 26.        0.39469   0.5823    0.81299]                    \n",
      "[ 27.        0.36389   0.51266   0.82764]                    \n",
      "[ 28.        0.48962   0.55353   0.81201]                    \n",
      "[ 29.        0.4328    0.55394   0.81328]                    \n",
      "[ 30.        0.37081   0.50348   0.83359]                    \n",
      "[ 31.        0.34045   0.52052   0.82949]                    \n",
      "\n",
      "CPU times: user 23min 30s, sys: 9min 1s, total: 32min 32s\n",
      "Wall time: 17min 16s\n"
     ]
    }
   ],
   "source": [
    "%time learn.fit(1e-2, 8, cycle_len=4, wds=wd)"
   ]
  },
  {
   "cell_type": "code",
   "execution_count": null,
   "metadata": {},
   "outputs": [],
   "source": [
    "learn.save('tmp3')"
   ]
  },
  {
   "cell_type": "code",
   "execution_count": null,
   "metadata": {},
   "outputs": [
    {
     "name": "stdout",
     "output_type": "stream",
     "text": [
      "                                             \r"
     ]
    }
   ],
   "source": [
    "log_preds,y = learn.TTA()\n",
    "preds = np.mean(np.exp(log_preds),0)"
   ]
  },
  {
   "cell_type": "code",
   "execution_count": null,
   "metadata": {},
   "outputs": [
    {
     "data": {
      "text/plain": [
       "(0.44507397166057938, 0.84909999999999997)"
      ]
     },
     "execution_count": null,
     "metadata": {},
     "output_type": "execute_result"
    }
   ],
   "source": [
    "metrics.log_loss(y,preds), accuracy_np(preds,y)"
   ]
  },
  {
   "cell_type": "markdown",
   "metadata": {},
   "source": [
    "## Q and A\n",
    "\n",
    "Can this Residual, ResNet, approach be aplied to other problems, not image problems?  \n",
    "- great question, yes. So far, it's being ignored. \n",
    "- NLP transformer arcitecture, state of the art for translation, a simple ResNet structure. Skip connections, skiping over a layer, used."
   ]
  },
  {
   "cell_type": "markdown",
   "metadata": {},
   "source": [
    "### End"
   ]
  },
  {
   "cell_type": "markdown",
   "metadata": {},
   "source": []
  }
 ],
 "metadata": {
  "kernelspec": {
   "display_name": "Python 3",
   "language": "python",
   "name": "python3"
  },
  "language_info": {
   "codemirror_mode": {
    "name": "ipython",
    "version": 3
   },
   "file_extension": ".py",
   "mimetype": "text/x-python",
   "name": "python",
   "nbconvert_exporter": "python",
   "pygments_lexer": "ipython3",
   "version": "3.6.6"
  }
 },
 "nbformat": 4,
 "nbformat_minor": 2
}
